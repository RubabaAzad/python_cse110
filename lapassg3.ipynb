{
  "nbformat": 4,
  "nbformat_minor": 0,
  "metadata": {
    "colab": {
      "provenance": []
    },
    "kernelspec": {
      "name": "python3",
      "display_name": "Python 3"
    },
    "language_info": {
      "name": "python"
    }
  },
  "cells": [
    {
      "cell_type": "code",
      "source": [
        "#1a\n",
        "counter= 24\n",
        "while counter>=-6:\n",
        "  if counter==-6:\n",
        "    print(counter,end=\"\")\n",
        "  else:\n",
        "    print(counter,end=\", \")\n",
        "  counter+=(-6)"
      ],
      "metadata": {
        "colab": {
          "base_uri": "https://localhost:8080/"
        },
        "id": "YKeS06TfDedC",
        "outputId": "6b93f443-972c-4eed-9837-1839e8614c40"
      },
      "execution_count": null,
      "outputs": [
        {
          "output_type": "stream",
          "name": "stdout",
          "text": [
            "24, 18, 12, 6, 0, -6"
          ]
        }
      ]
    },
    {
      "cell_type": "code",
      "source": [
        "#1a\n",
        "for i in range (24,-7,-6):\n",
        "  if i == -6 :\n",
        "    print(i,end=\"\") \n",
        "  else:\n",
        "    print(i,end=\", \")"
      ],
      "metadata": {
        "colab": {
          "base_uri": "https://localhost:8080/"
        },
        "id": "WzHoZekzdJk_",
        "outputId": "b2076fb3-55fb-450a-8472-7b5abd68ed46"
      },
      "execution_count": null,
      "outputs": [
        {
          "output_type": "stream",
          "name": "stdout",
          "text": [
            "24, 18, 12, 6, 0, -6"
          ]
        }
      ]
    },
    {
      "cell_type": "code",
      "source": [
        "w=input()\n",
        "r=\"\"\n",
        "for i in w:\n",
        "  if (ord(i)>=65 and ord(i)<=90) or (97<=ord(i)<=122):\n",
        "    r=r+i\n",
        "print(r[ : :-1],end=\"\")"
      ],
      "metadata": {
        "colab": {
          "base_uri": "https://localhost:8080/"
        },
        "id": "KNitN5Bj4EWJ",
        "outputId": "fd9074dc-9168-44ce-d207-d095951111d6"
      },
      "execution_count": null,
      "outputs": [
        {
          "output_type": "stream",
          "name": "stdout",
          "text": [
            "876e879yB\n",
            "Bye"
          ]
        }
      ]
    },
    {
      "cell_type": "code",
      "source": [
        "for i in range(24,-7,-6):\n",
        "  if i==-6:\n",
        "    print(i,end=\"\")\n",
        "  else:\n",
        "    print(i,end=\", \")"
      ],
      "metadata": {
        "colab": {
          "base_uri": "https://localhost:8080/"
        },
        "id": "M99JIvK00fbr",
        "outputId": "ec652891-b749-4204-f02e-145e6cdf79f1"
      },
      "execution_count": null,
      "outputs": [
        {
          "output_type": "stream",
          "name": "stdout",
          "text": [
            "24, 18, 12, 6, 0, -6"
          ]
        }
      ]
    },
    {
      "cell_type": "code",
      "source": [
        "count=-10\n",
        "while count<=20:\n",
        "  if count==20:\n",
        "    print(count,end=\"\")\n",
        "  else:\n",
        "    print(count,end=\", \")\n",
        "  count+=5"
      ],
      "metadata": {
        "colab": {
          "base_uri": "https://localhost:8080/"
        },
        "id": "Kzm3YjZq2OO8",
        "outputId": "638441f3-39cb-4d21-a652-0714ecf68b1c"
      },
      "execution_count": null,
      "outputs": [
        {
          "output_type": "stream",
          "name": "stdout",
          "text": [
            "-10, -5, 0, 5, 10, 15, 20"
          ]
        }
      ]
    },
    {
      "cell_type": "code",
      "execution_count": null,
      "metadata": {
        "colab": {
          "base_uri": "https://localhost:8080/"
        },
        "id": "IISFW_-3CWHS",
        "outputId": "560b5617-a6de-4938-f965-8b41d5260964"
      },
      "outputs": [
        {
          "output_type": "stream",
          "name": "stdout",
          "text": [
            "-10, -5, 0, 5, 10, 15, 20"
          ]
        }
      ],
      "source": [
        "#1b\n",
        "counter =-10\n",
        "while counter<=20:\n",
        "  if counter==20:\n",
        "    print(counter,end=\"\")\n",
        "  else:\n",
        "    print(counter,end=\", \")\n",
        "  counter+=5"
      ]
    },
    {
      "cell_type": "code",
      "source": [
        "#1c\n",
        "counter =18\n",
        "while counter<=63:\n",
        "  if counter==63:\n",
        "    print(counter,end=\"\")\n",
        "  else:\n",
        "    print(counter, end=\",\")\n",
        "  counter+=9"
      ],
      "metadata": {
        "id": "xpZBYZhjD2Zu",
        "colab": {
          "base_uri": "https://localhost:8080/"
        },
        "outputId": "cb6e11b0-719b-4142-801b-408748794aa1"
      },
      "execution_count": null,
      "outputs": [
        {
          "output_type": "stream",
          "name": "stdout",
          "text": [
            "18,27,36,45,54,63"
          ]
        }
      ]
    },
    {
      "cell_type": "code",
      "source": [
        "#1d\n",
        "for i in range (18,64,9):\n",
        "  if i%2==0:\n",
        "    print(i,end=\", \")\n",
        "  elif i==63:\n",
        "    print(i*(-1),end=\"\")\n",
        "  else:\n",
        "    print(i*(-1),end=\", \")"
      ],
      "metadata": {
        "colab": {
          "base_uri": "https://localhost:8080/"
        },
        "id": "vP1zB06KekBb",
        "outputId": "25040048-b1af-4712-ff51-3d0296512cf8"
      },
      "execution_count": null,
      "outputs": [
        {
          "output_type": "stream",
          "name": "stdout",
          "text": [
            "18, -27, 36, -45, 54, -63"
          ]
        }
      ]
    },
    {
      "cell_type": "code",
      "source": [
        "#2\n",
        "name=input(\"Enter a car name: \")\n",
        "num=int(input(\"Enter a number: \"))\n",
        "for i in range(0,num):\n",
        "  print(name)"
      ],
      "metadata": {
        "colab": {
          "base_uri": "https://localhost:8080/"
        },
        "id": "-RSLR3I9fnUO",
        "outputId": "55f88ca3-7f85-4014-c05c-8775c3c314bb"
      },
      "execution_count": null,
      "outputs": [
        {
          "output_type": "stream",
          "name": "stdout",
          "text": [
            "Enter a car name: nissan\n",
            "Enter a number: 2\n",
            "nissan\n",
            "nissan\n"
          ]
        }
      ]
    },
    {
      "cell_type": "code",
      "source": [
        "#3\n",
        "sum=0\n",
        "for i in range (1,601):\n",
        "  if i%7==0 and i%9==0:\n",
        "     sum+=i\n",
        "print(sum)"
      ],
      "metadata": {
        "colab": {
          "base_uri": "https://localhost:8080/"
        },
        "id": "aZV9Y4cEgQiX",
        "outputId": "adbaa34e-43a5-4839-fd97-af9580f3500e"
      },
      "execution_count": null,
      "outputs": [
        {
          "output_type": "stream",
          "name": "stdout",
          "text": [
            "2835\n"
          ]
        }
      ]
    },
    {
      "cell_type": "code",
      "source": [
        "#5 \n",
        "for i in range (10,51):\n",
        "  if i%2!=0:\n",
        "    print(i,end=\" \")"
      ],
      "metadata": {
        "colab": {
          "base_uri": "https://localhost:8080/"
        },
        "id": "Saw_RPjBg8K5",
        "outputId": "d775a3f9-180a-493f-d874-18dba6420a18"
      },
      "execution_count": null,
      "outputs": [
        {
          "output_type": "stream",
          "name": "stdout",
          "text": [
            "11 13 15 17 19 21 23 25 27 29 31 33 35 37 39 41 43 45 47 49 "
          ]
        }
      ]
    },
    {
      "cell_type": "code",
      "source": [
        "n=int(input(\"enter a number: \"))\n",
        "sum=0\n",
        "for i in range (1,n+1):\n",
        "  if i%2!=0:\n",
        "    sum+=i**2\n",
        "  else:\n",
        "    sum-=i**2\n",
        "print(sum)"
      ],
      "metadata": {
        "colab": {
          "base_uri": "https://localhost:8080/"
        },
        "id": "1JLq5Vo7hrbK",
        "outputId": "4b88643e-3420-4e74-c971-2ed671a8c7cb"
      },
      "execution_count": null,
      "outputs": [
        {
          "output_type": "stream",
          "name": "stdout",
          "text": [
            "enter a number: 5\n",
            "15\n"
          ]
        }
      ]
    },
    {
      "cell_type": "code",
      "source": [
        "for i in range (18,64,9):\n",
        "  if i%2==0:\n",
        "    print(i,end=\", \")\n",
        "  elif i==63:\n",
        "    print(i*(-1),end=\"\")\n",
        "  else:\n",
        "    print(i*(-1),end=\", \")"
      ],
      "metadata": {
        "colab": {
          "base_uri": "https://localhost:8080/"
        },
        "id": "Apa4JmXX3Zll",
        "outputId": "26095f8f-c123-444d-ae78-59b8ae27360f"
      },
      "execution_count": null,
      "outputs": [
        {
          "output_type": "stream",
          "name": "stdout",
          "text": [
            "18, -27, 36, -45, 54, -63"
          ]
        }
      ]
    },
    {
      "cell_type": "code",
      "source": [
        "#1d\n",
        "for i in range(18,64,9):\n",
        "  if i%2==0:\n",
        "    print(i,end=\",\")\n",
        "  elif i==63:\n",
        "    print(i*(-1),end=\"\")\n",
        "  else:\n",
        "    print(i*(-1),end=\",\")"
      ],
      "metadata": {
        "id": "fUjgBbJOD4dE",
        "colab": {
          "base_uri": "https://localhost:8080/"
        },
        "outputId": "ac7eab8f-5c0b-4d37-ac3e-62391e20b2e5"
      },
      "execution_count": null,
      "outputs": [
        {
          "output_type": "stream",
          "name": "stdout",
          "text": [
            "18,-27,36,-45,54,-63"
          ]
        }
      ]
    },
    {
      "cell_type": "code",
      "source": [
        "#2\n",
        "car = str(input(\"enter the name of your favorite car: \"))\n",
        "num = int(input(\"enter a number: \"))\n",
        "count= 1\n",
        "while (count<=num):\n",
        "  print(car)\n",
        "  count+=1"
      ],
      "metadata": {
        "colab": {
          "base_uri": "https://localhost:8080/"
        },
        "id": "2UnheaAgD8Oj",
        "outputId": "12f63691-74e7-4337-e618-2d7eaa076e2d"
      },
      "execution_count": null,
      "outputs": [
        {
          "output_type": "stream",
          "name": "stdout",
          "text": [
            "enter the name of your favorite car: Toyota\n",
            "enter a number: 2\n",
            "Toyota\n",
            "Toyota\n"
          ]
        }
      ]
    },
    {
      "cell_type": "code",
      "source": [
        "car=input()\n",
        "num= int(input())\n",
        "for i in range (1,num+1,1):\n",
        "  print(car)"
      ],
      "metadata": {
        "colab": {
          "base_uri": "https://localhost:8080/"
        },
        "id": "EVuf_MDx47GG",
        "outputId": "2dfdaf8e-6b0c-4edf-94ff-516968af1e66"
      },
      "execution_count": null,
      "outputs": [
        {
          "output_type": "stream",
          "name": "stdout",
          "text": [
            "Toyota\n",
            "5\n",
            "Toyota\n",
            "Toyota\n",
            "Toyota\n",
            "Toyota\n",
            "Toyota\n"
          ]
        }
      ]
    },
    {
      "cell_type": "code",
      "source": [
        "#3\n",
        "sum=0\n",
        "for i in range (63,601,1):\n",
        "    if (i%7==0) and (i%9==0):\n",
        "      sum=sum+i\n",
        "print(sum)"
      ],
      "metadata": {
        "colab": {
          "base_uri": "https://localhost:8080/"
        },
        "id": "rIb1PQzFXa5M",
        "outputId": "a2dbd314-d8bc-4dda-df15-e01caef319f1"
      },
      "execution_count": null,
      "outputs": [
        {
          "output_type": "stream",
          "name": "stdout",
          "text": [
            "2835\n"
          ]
        }
      ]
    },
    {
      "cell_type": "code",
      "source": [
        "sum=0\n",
        "for i in range (0,601,1):\n",
        "  if (i%7==0 and i%9!=0) or (i%9==0 and i%7!=0):\n",
        "    sum+=i\n",
        "print(sum)"
      ],
      "metadata": {
        "colab": {
          "base_uri": "https://localhost:8080/"
        },
        "id": "Ezu7T95PA6K6",
        "outputId": "a8c9bb64-073f-4342-9122-138b200ba0ae"
      },
      "execution_count": null,
      "outputs": [
        {
          "output_type": "stream",
          "name": "stdout",
          "text": [
            "39814\n"
          ]
        }
      ]
    },
    {
      "cell_type": "code",
      "source": [
        "#4\n",
        "sum=0\n",
        "for i in range (1,601,1):\n",
        "  if (i%7==0 and i%9!=0) or (i%9==0 and i%7!=0):\n",
        "    sum=sum+i\n",
        "print(sum)"
      ],
      "metadata": {
        "colab": {
          "base_uri": "https://localhost:8080/"
        },
        "id": "jamSwe7AKl_p",
        "outputId": "b74b77d4-4de6-4ee8-9a27-587183d27d6c"
      },
      "execution_count": null,
      "outputs": [
        {
          "output_type": "stream",
          "name": "stdout",
          "text": [
            "39814\n"
          ]
        }
      ]
    },
    {
      "cell_type": "code",
      "source": [
        "#5\n",
        "number=10\n",
        "while number<=50:\n",
        "  if (number%2)!=0:\n",
        "    print(number, end=\" \")\n",
        "  number+=1"
      ],
      "metadata": {
        "colab": {
          "base_uri": "https://localhost:8080/"
        },
        "id": "tO9dXMlmLB_N",
        "outputId": "3987bce3-9310-4353-c3ed-6d86bb925a35"
      },
      "execution_count": null,
      "outputs": [
        {
          "output_type": "stream",
          "name": "stdout",
          "text": [
            "11 13 15 17 19 21 23 25 27 29 31 33 35 37 39 41 43 45 47 49 "
          ]
        }
      ]
    },
    {
      "cell_type": "code",
      "source": [
        "for i in range (11,50,1):\n",
        "  if i%2!=0:\n",
        "    print(i,end=\" \")"
      ],
      "metadata": {
        "colab": {
          "base_uri": "https://localhost:8080/"
        },
        "id": "ZsF0eNa1Cbhd",
        "outputId": "59cb1edf-5dc3-4904-d804-d81a667f01c2"
      },
      "execution_count": null,
      "outputs": [
        {
          "output_type": "stream",
          "name": "stdout",
          "text": [
            "11 13 15 17 19 21 23 25 27 29 31 33 35 37 39 41 43 45 47 49 "
          ]
        }
      ]
    },
    {
      "cell_type": "code",
      "source": [
        "#6\n",
        "number= int(input(\"enter number: \"))\n",
        "sum=0\n",
        "for i in range (1,number+1,1):\n",
        "  if (i%2!=0):\n",
        "    sum=sum+(i**2)\n",
        "  elif(i%2==0):\n",
        "    sum=sum-(i**2)\n",
        "print(sum)\n"
      ],
      "metadata": {
        "id": "6vGFS_7fN6tr",
        "colab": {
          "base_uri": "https://localhost:8080/"
        },
        "outputId": "91ebc619-96b1-4338-c9f2-de80ce2ee376"
      },
      "execution_count": null,
      "outputs": [
        {
          "output_type": "stream",
          "name": "stdout",
          "text": [
            "enter number: 20\n",
            "-210\n"
          ]
        }
      ]
    },
    {
      "cell_type": "code",
      "source": [
        "y=int(input())\n",
        "sum=0\n",
        "for i in range (1,y+1,1):\n",
        "  if i%2==0:\n",
        "    sum-=(i**2)\n",
        "  else:\n",
        "    sum+=(i**2)\n",
        "print(sum)"
      ],
      "metadata": {
        "colab": {
          "base_uri": "https://localhost:8080/"
        },
        "id": "wmGHRDghEOl8",
        "outputId": "18c74c15-84b7-4f61-f885-920ff97b0ab4"
      },
      "execution_count": null,
      "outputs": [
        {
          "output_type": "stream",
          "name": "stdout",
          "text": [
            "20\n",
            "-210\n"
          ]
        }
      ]
    },
    {
      "cell_type": "code",
      "source": [
        "#7\n",
        "sum=0\n",
        "step=0\n",
        "for i in range (10):\n",
        "  number=int(input(\"enter number: \"))\n",
        "  if (number%2!=0):\n",
        "    sum=sum+number\n",
        "    step=step+1\n",
        "print(\"The total of odd numberis\",sum,\"and their average is\",float(sum/step))"
      ],
      "metadata": {
        "id": "Mhz4qL3mN6vB",
        "colab": {
          "base_uri": "https://localhost:8080/"
        },
        "outputId": "aa99a368-8a0d-4680-df9a-8bea5a46bc72"
      },
      "execution_count": null,
      "outputs": [
        {
          "output_type": "stream",
          "name": "stdout",
          "text": [
            "enter number: -20\n",
            "enter number: 13\n",
            "enter number: -5\n",
            "enter number: 40\n",
            "enter number: -17\n",
            "enter number: 10\n",
            "enter number: 20\n",
            "enter number: -8\n",
            "enter number: 99\n",
            "enter number: -200\n",
            "The total of odd numberis 90 and their average is 22.5\n"
          ]
        }
      ]
    },
    {
      "cell_type": "code",
      "source": [
        "sum=0\n",
        "step=0\n",
        "for i in range (10):\n",
        "  numbers=int(input(\"enter numbers: \"))\n",
        "  if numbers%2!=0:\n",
        "    sum+=numbers\n",
        "    step+=1\n",
        "\n",
        "print(sum, \"average:\",float(sum/step))\n"
      ],
      "metadata": {
        "colab": {
          "base_uri": "https://localhost:8080/"
        },
        "id": "9scW1sHJGCBS",
        "outputId": "3813563e-0ccb-441c-e84f-b67c789a2e77"
      },
      "execution_count": null,
      "outputs": [
        {
          "output_type": "stream",
          "name": "stdout",
          "text": [
            "enter numbers: 1\n",
            "enter numbers: 2\n",
            "enter numbers: 3\n",
            "enter numbers: 4\n",
            "enter numbers: 5\n",
            "enter numbers: 6\n",
            "enter numbers: 7\n",
            "enter numbers: 8\n",
            "enter numbers: 9\n",
            "enter numbers: 10\n",
            "25 average: 5.0\n"
          ]
        }
      ]
    },
    {
      "cell_type": "code",
      "source": [
        "#8\n",
        "sum=0\n",
        "N = int(input(\"enter number: \"))\n",
        "for i in range (1,N+1,1):\n",
        "  if i%7==0:\n",
        "    sum=sum+i\n",
        "print(sum)"
      ],
      "metadata": {
        "colab": {
          "base_uri": "https://localhost:8080/"
        },
        "id": "TTVK1YEJaXeI",
        "outputId": "32283732-02bf-45c1-f66f-cba10213c91c"
      },
      "execution_count": null,
      "outputs": [
        {
          "output_type": "stream",
          "name": "stdout",
          "text": [
            "enter number: 75\n",
            "385\n"
          ]
        }
      ]
    },
    {
      "cell_type": "code",
      "source": [
        "n=int(input())\n",
        "sum=0\n",
        "for i in range (1,n+1,1):\n",
        "  if i%7==0:\n",
        "    sum+=i\n",
        "print(sum)"
      ],
      "metadata": {
        "colab": {
          "base_uri": "https://localhost:8080/"
        },
        "id": "O2ytUcTYH7tz",
        "outputId": "76cf1237-12f4-4915-cd87-4a6399582a2e"
      },
      "execution_count": null,
      "outputs": [
        {
          "output_type": "stream",
          "name": "stdout",
          "text": [
            "50\n",
            "196\n"
          ]
        }
      ]
    },
    {
      "cell_type": "code",
      "source": [
        "#9\n",
        "sum=0\n",
        "for i in range (5):\n",
        "  number= int(input(\"enter number: \"))\n",
        "  sum+=number\n",
        "  print(sum)"
      ],
      "metadata": {
        "id": "hgHqRW1QdMkC",
        "colab": {
          "base_uri": "https://localhost:8080/"
        },
        "outputId": "0d3ded51-63ec-4c4e-bcac-438b9c080f17"
      },
      "execution_count": null,
      "outputs": [
        {
          "output_type": "stream",
          "name": "stdout",
          "text": [
            "enter number: 1\n",
            "1\n",
            "enter number: 2\n",
            "3\n",
            "enter number: 3\n",
            "6\n",
            "enter number: 4\n",
            "10\n",
            "enter number: 5\n",
            "15\n"
          ]
        }
      ]
    },
    {
      "cell_type": "code",
      "source": [
        "sum=0\n",
        "for i in range(5):\n",
        "  num=int(input(\"enter numbers: \"))\n",
        "  sum+=num\n",
        "  print(sum)"
      ],
      "metadata": {
        "colab": {
          "base_uri": "https://localhost:8080/"
        },
        "id": "shIZPOIVJSx0",
        "outputId": "42aedb45-3119-4656-9094-a1d676d8825f"
      },
      "execution_count": null,
      "outputs": [
        {
          "output_type": "stream",
          "name": "stdout",
          "text": [
            "enter numbers: 1\n",
            "1\n",
            "enter numbers: 2\n",
            "3\n",
            "enter numbers: 3\n",
            "6\n",
            "enter numbers: 4\n",
            "10\n",
            "enter numbers: 5\n",
            "15\n"
          ]
        }
      ]
    },
    {
      "cell_type": "code",
      "source": [
        "#10\n",
        "number= int(input(\"enter the number: \"))\n",
        "while number>=1:\n",
        "  print(number%10, end=\"\")\n",
        "  number= number//10\n",
        "  if number!=0:\n",
        "    print(end=\", \")\n",
        "  else:\n",
        "    print(end=\"\")"
      ],
      "metadata": {
        "id": "ZVe3by15q7cI",
        "colab": {
          "base_uri": "https://localhost:8080/"
        },
        "outputId": "3445c1fd-a609-4db5-b06a-7a958978ffe2"
      },
      "execution_count": null,
      "outputs": [
        {
          "output_type": "stream",
          "name": "stdout",
          "text": [
            "enter the number: 32768\n",
            "8, 6, 7, 2, 3"
          ]
        }
      ]
    },
    {
      "cell_type": "code",
      "source": [
        "number = int(input())\n",
        "while number>0:\n",
        "  print(number%10,end=\"\")\n",
        "  number=number//10\n",
        "  if number!=0:\n",
        "    print(end=\", \")\n",
        "  else:\n",
        "    print(end=\"\")"
      ],
      "metadata": {
        "colab": {
          "base_uri": "https://localhost:8080/"
        },
        "id": "8twcfNPrLTRs",
        "outputId": "0d830887-25ce-4f5f-e64d-e1efaae213ac"
      },
      "execution_count": null,
      "outputs": [
        {
          "output_type": "stream",
          "name": "stdout",
          "text": [
            "32768\n",
            "8, 6, 7, 2, 3"
          ]
        }
      ]
    },
    {
      "cell_type": "code",
      "source": [
        "count=0\n",
        "num= int(input(\"enter a number: \"))\n",
        "while num>=1:\n",
        "  count+=1\n",
        "  num=num//10\n",
        "print(count)"
      ],
      "metadata": {
        "colab": {
          "base_uri": "https://localhost:8080/"
        },
        "id": "AXq2k_Onm26k",
        "outputId": "2e3c8d18-9ba4-4753-cc80-5e0216416c9b"
      },
      "execution_count": null,
      "outputs": [
        {
          "output_type": "stream",
          "name": "stdout",
          "text": [
            "enter a number: 4355\n",
            "4\n"
          ]
        }
      ]
    },
    {
      "cell_type": "code",
      "source": [
        "num=int(input())\n",
        "count=1\n",
        "while count<=num:\n",
        "  count+=1\n",
        "  num=num//10\n",
        "print(count)"
      ],
      "metadata": {
        "colab": {
          "base_uri": "https://localhost:8080/"
        },
        "id": "d87bVO9XCdVE",
        "outputId": "2873dafa-7d53-437b-8fb9-27dc592a13a4"
      },
      "execution_count": null,
      "outputs": [
        {
          "output_type": "stream",
          "name": "stdout",
          "text": [
            "123\n",
            "3\n"
          ]
        }
      ]
    },
    {
      "cell_type": "code",
      "source": [
        "#11\n",
        "count=0\n",
        "number= int(input(\"enter number: \"))\n",
        "while number>=1:\n",
        "  count+=1\n",
        "  number=number//10\n",
        "print(count)"
      ],
      "metadata": {
        "colab": {
          "base_uri": "https://localhost:8080/"
        },
        "id": "G6cD7_wMcZEv",
        "outputId": "e2da4ed9-75af-47be-f75f-aac62c4480eb"
      },
      "execution_count": null,
      "outputs": [
        {
          "output_type": "stream",
          "name": "stdout",
          "text": [
            "enter number: 3232\n",
            "4\n"
          ]
        }
      ]
    },
    {
      "cell_type": "code",
      "source": [
        "count=0\n",
        "num=int(input())\n",
        "num1=num\n",
        "var1=0\n",
        "while num>=1:\n",
        "  count+=1\n",
        "  num=num//10\n",
        "s=10**(count-1)\n",
        "while num1>=1:\n",
        "  var1=num1//s\n",
        "  num1=num1%s\n",
        "  s=s//10\n",
        "  if num1==0:\n",
        "    print(var1,end=\"\")\n",
        "  else:\n",
        "    print(var1,end=\", \")"
      ],
      "metadata": {
        "colab": {
          "base_uri": "https://localhost:8080/"
        },
        "id": "ShCcb05AofA1",
        "outputId": "3753e61e-2920-4d7f-f7f2-559453a4496a"
      },
      "execution_count": null,
      "outputs": [
        {
          "output_type": "stream",
          "name": "stdout",
          "text": [
            "4325\n",
            "4, 3, 2, 5"
          ]
        }
      ]
    },
    {
      "cell_type": "code",
      "source": [
        "num=int(input())\n",
        "count=0\n",
        "for i in range(1,num+1):\n",
        "  if num%i==0:\n",
        "    count+=1\n",
        "    print(i)\n",
        "print(count)\n"
      ],
      "metadata": {
        "colab": {
          "base_uri": "https://localhost:8080/"
        },
        "id": "lPBU5kfLrdxx",
        "outputId": "7514e046-baf2-4e30-f843-87c7d376ee0f"
      },
      "execution_count": null,
      "outputs": [
        {
          "output_type": "stream",
          "name": "stdout",
          "text": [
            "121\n",
            "1\n",
            "11\n",
            "121\n",
            "3\n"
          ]
        }
      ]
    },
    {
      "cell_type": "code",
      "source": [
        "num=int(input())\n",
        "sum=0\n",
        "for i in range(1,num+1,1):\n",
        "  if num%i==0 and num!=i:\n",
        "     sum=sum+i\n",
        "if sum==num:\n",
        "  print(num, \"is a perfect number.\")\n",
        "else:\n",
        "  print(num,\"is not a perfect number.\")"
      ],
      "metadata": {
        "colab": {
          "base_uri": "https://localhost:8080/"
        },
        "id": "dJoRjvNwuCYc",
        "outputId": "d7b9e24c-9cfd-46c0-f25b-3170bd42ccb4"
      },
      "execution_count": null,
      "outputs": [
        {
          "output_type": "stream",
          "name": "stdout",
          "text": [
            "33\n",
            "33 is not a perfect number.\n"
          ]
        }
      ]
    },
    {
      "cell_type": "code",
      "source": [],
      "metadata": {
        "id": "pRdnq1kkFGPB"
      },
      "execution_count": null,
      "outputs": []
    },
    {
      "cell_type": "code",
      "source": [
        "num=int(input())\n",
        "sum=0\n",
        "for i in range(1,num,1):\n",
        "  if num%i==0:\n",
        "     sum=sum+i\n",
        "if sum==num:\n",
        "  print(num, \"is a perfect number.\")\n",
        "else:\n",
        "  print(num,\"is not a perfect number.\")"
      ],
      "metadata": {
        "colab": {
          "base_uri": "https://localhost:8080/"
        },
        "outputId": "fa9cd4a4-7582-4d8e-fadc-31d1df29002d",
        "id": "4524AojJFH26"
      },
      "execution_count": null,
      "outputs": [
        {
          "output_type": "stream",
          "name": "stdout",
          "text": [
            "6\n",
            "6 is a perfect number.\n"
          ]
        }
      ]
    },
    {
      "cell_type": "code",
      "source": [
        "num=int(input())\n",
        "count=0\n",
        "for i in range (1,num+1):\n",
        "  if num%i==0:\n",
        "    count+=1\n",
        "if count==2:\n",
        "  print(num,\"is a prime number.\")\n",
        "else:\n",
        "  print(num,\"is not a prime number.\")\n",
        " "
      ],
      "metadata": {
        "colab": {
          "base_uri": "https://localhost:8080/"
        },
        "id": "ItmCpUW8wyqo",
        "outputId": "241bd175-007c-40eb-92b1-26b10b6831d3"
      },
      "execution_count": null,
      "outputs": [
        {
          "output_type": "stream",
          "name": "stdout",
          "text": [
            "6\n",
            "6 is not a prime number.\n"
          ]
        }
      ]
    },
    {
      "cell_type": "code",
      "source": [
        "#12\n",
        "count=0\n",
        "number= int(input(\"enter number: \"))\n",
        "num=number\n",
        "var1=0\n",
        "while number!=0:\n",
        "  count+=1\n",
        "  number=number//10\n",
        "s=10**(count-1)\n",
        "while num!=0:\n",
        "    var1=num//s\n",
        "    num=num%s\n",
        "    s=s//10\n",
        "    if num!=0:\n",
        "      print(var1,end=\",\")\n",
        "    else:\n",
        "      print(var1,end=\"\")\n",
        "  \n",
        "\n"
      ],
      "metadata": {
        "colab": {
          "base_uri": "https://localhost:8080/"
        },
        "id": "m5F7pJQFhTFG",
        "outputId": "cf5dfc22-4713-4785-f42d-e2e21c4f9c6f"
      },
      "execution_count": null,
      "outputs": [
        {
          "output_type": "stream",
          "name": "stdout",
          "text": [
            "enter number: 32768\n",
            "3,2,7,6,8"
          ]
        }
      ]
    },
    {
      "cell_type": "code",
      "source": [
        "#13\n",
        "number=int(input(\"enter number: \"))\n",
        "count=0\n",
        "for i in range(1,number+1):\n",
        "  if (number%i)==0:\n",
        "    count+=1\n",
        "    print(i)\n",
        "print(\"Total\",count,\"divisors\")"
      ],
      "metadata": {
        "colab": {
          "base_uri": "https://localhost:8080/"
        },
        "id": "4x9VPBqi69t9",
        "outputId": "2bc2b401-4442-492c-8c4b-9d6b81d39781"
      },
      "execution_count": null,
      "outputs": [
        {
          "output_type": "stream",
          "name": "stdout",
          "text": [
            "enter number: 121\n",
            "1\n",
            "11\n",
            "121\n",
            "Total 3 divisors\n"
          ]
        }
      ]
    },
    {
      "cell_type": "code",
      "source": [
        "#14\n",
        "number = int(input(\"enter number: \"))\n",
        "sum=0\n",
        "for i in range (1, number+1,1):\n",
        "  if (number%i==0) and (number!=i):\n",
        "    sum=sum+i\n",
        "if sum==number:\n",
        "  print(number,\"is a perfect number.\")\n",
        "else: \n",
        "  print(number,\"is not a perfect number.\")   "
      ],
      "metadata": {
        "colab": {
          "base_uri": "https://localhost:8080/"
        },
        "id": "7jwIfrSNrotD",
        "outputId": "a8443b8a-5508-4f63-9212-b82b4a665d57"
      },
      "execution_count": null,
      "outputs": [
        {
          "output_type": "stream",
          "name": "stdout",
          "text": [
            "enter number: 33\n",
            "33 is not a perfect number.\n"
          ]
        }
      ]
    },
    {
      "cell_type": "code",
      "source": [
        "quantity=int(input(\"enter the quantity of numbers: \"))\n",
        "max=quantity\n",
        "min=quantity\n",
        "sum=0\n",
        "for i in range(quantity):\n",
        "  num=int(input(\"enter numbers: \"))\n",
        "  sum+=num\n",
        "  if num>=max:\n",
        "    max=num\n",
        "  elif num<=min:\n",
        "    min=num\n",
        "print(\"Maximum\",max)\n",
        "print(\"Minimum\",min)\n",
        "print(\"Average\",float(sum/quantity))"
      ],
      "metadata": {
        "colab": {
          "base_uri": "https://localhost:8080/"
        },
        "id": "mV2KWg0-yJJn",
        "outputId": "df9dd818-df4b-42aa-9fe2-a6f08d9d3272"
      },
      "execution_count": null,
      "outputs": [
        {
          "output_type": "stream",
          "name": "stdout",
          "text": [
            "enter the quantity of numbers: 5\n",
            "enter numbers: 10\n",
            "enter numbers: 4\n",
            "enter numbers: -1\n",
            "enter numbers: -100\n",
            "enter numbers: 1\n",
            "Maximum 10\n",
            "Minimum -100\n",
            "Average -17.2\n"
          ]
        }
      ]
    },
    {
      "cell_type": "code",
      "source": [
        "n=int(input())\n",
        "for i in range(1,n+1,1):\n",
        "  for j in range (1,n+1,1):\n",
        "    print(\"+\",end=\"\")\n",
        "  print()"
      ],
      "metadata": {
        "colab": {
          "base_uri": "https://localhost:8080/"
        },
        "id": "XGdJSm7Q1yAV",
        "outputId": "9f13a2f0-aa9e-4b40-fd66-eba44f105f79"
      },
      "execution_count": null,
      "outputs": [
        {
          "output_type": "stream",
          "name": "stdout",
          "text": [
            "5\n",
            "+++++\n",
            "+++++\n",
            "+++++\n",
            "+++++\n",
            "+++++\n"
          ]
        }
      ]
    },
    {
      "cell_type": "code",
      "source": [
        "n=int(input())\n",
        "m=int(input())\n",
        "for i in range(1,n+1,1):\n",
        "  for j in range (1,m+1,1):\n",
        "    print(j,end=\"\")\n",
        "  print()"
      ],
      "metadata": {
        "colab": {
          "base_uri": "https://localhost:8080/"
        },
        "id": "4v2kYcUx22MD",
        "outputId": "951c4df5-a666-47c7-bba0-acb7f5900b64"
      },
      "execution_count": null,
      "outputs": [
        {
          "output_type": "stream",
          "name": "stdout",
          "text": [
            "4\n",
            "6\n",
            "123456\n",
            "123456\n",
            "123456\n",
            "123456\n"
          ]
        }
      ]
    },
    {
      "cell_type": "code",
      "source": [
        "n=int(input())\n",
        "for i in range (1,n+1,1):\n",
        "  for j in range (1,i+1,1):\n",
        "    print(\"*\",end=\"\")\n",
        "  print()"
      ],
      "metadata": {
        "colab": {
          "base_uri": "https://localhost:8080/"
        },
        "id": "WD2flyc23691",
        "outputId": "b458889c-aa1b-40cd-b50c-f8f22139e5f4"
      },
      "execution_count": null,
      "outputs": [
        {
          "output_type": "stream",
          "name": "stdout",
          "text": [
            "4\n",
            "*\n",
            "**\n",
            "***\n",
            "****\n"
          ]
        }
      ]
    },
    {
      "cell_type": "code",
      "source": [
        "#classwork\n",
        "hght=int(input())\n",
        "for i in range (1,hght+1,1):\n",
        "  for space in range (1,hght-i+1,1):\n",
        "    print(\" \",end=\"\")\n",
        "  for j in range(1,i+1,1):\n",
        "    print(\"*\",end=\"\")\n",
        "  print()"
      ],
      "metadata": {
        "colab": {
          "base_uri": "https://localhost:8080/"
        },
        "id": "3y6gRPeU4vHL",
        "outputId": "cf3f2811-ca70-4839-fbe8-c1857c363b56"
      },
      "execution_count": null,
      "outputs": [
        {
          "output_type": "stream",
          "name": "stdout",
          "text": [
            "5\n",
            "    *\n",
            "   **\n",
            "  ***\n",
            " ****\n",
            "*****\n"
          ]
        }
      ]
    },
    {
      "cell_type": "code",
      "source": [
        "hght=int(input())\n",
        "for i in range (1,hght+1,1):\n",
        "  for space in range (1,hght-i+1,1):\n",
        "    print(\" \",end=\"''\")\n",
        "  for j in range(1,i,2):\n",
        "    print(j,end=\"\")\n",
        "  print()"
      ],
      "metadata": {
        "colab": {
          "base_uri": "https://localhost:8080/"
        },
        "id": "57MJkM4Y713s",
        "outputId": "05af6d18-eea7-4595-e49a-d18a4f79f303"
      },
      "execution_count": null,
      "outputs": [
        {
          "output_type": "stream",
          "name": "stdout",
          "text": [
            "4\n",
            " '' '' ''\n",
            " '' ''1\n",
            " ''1\n",
            "13\n"
          ]
        }
      ]
    },
    {
      "cell_type": "code",
      "source": [
        "#15\n",
        "number=int(input(\"enter number: \"))\n",
        "count=0\n",
        "for i in range(1,number+1):\n",
        "  if (number%i)==0:\n",
        "    count+=1\n",
        "if count==2:\n",
        "      print(number,\"is a prime number.\")\n",
        "else:\n",
        "      print(number,\"is not a prime number.\")"
      ],
      "metadata": {
        "colab": {
          "base_uri": "https://localhost:8080/"
        },
        "id": "Pk125sKTD3FY",
        "outputId": "49b02c33-aecc-420c-ae22-7382e0d22079"
      },
      "execution_count": null,
      "outputs": [
        {
          "output_type": "stream",
          "name": "stdout",
          "text": [
            "enter number: 11\n",
            "11 is a prime number.\n"
          ]
        }
      ]
    },
    {
      "cell_type": "code",
      "source": [
        "#16\n",
        "quantity=int(input(\"enter number: \"))\n",
        "max=quantity\n",
        "min=quantity\n",
        "sum=0\n",
        "for i in range(quantity):\n",
        "  number=int(input(\"enter number: \"))\n",
        "  sum+=number\n",
        "  if number>max:\n",
        "    max=number\n",
        "  elif number<min:\n",
        "    min=number\n",
        "print(\"Maximum\",max)\n",
        "print(\"Minimum\",min)\n",
        "print(\"Average is\",float(sum/quantity))"
      ],
      "metadata": {
        "colab": {
          "base_uri": "https://localhost:8080/"
        },
        "id": "g9XZLDS9GWau",
        "outputId": "5f5161af-4e77-46df-c1e3-018551f59bff"
      },
      "execution_count": null,
      "outputs": [
        {
          "output_type": "stream",
          "name": "stdout",
          "text": [
            "enter number: 4\n",
            "enter number: 8\n",
            "enter number: 34\n",
            "enter number: 5\n",
            "enter number: 45\n",
            "Maximum 45\n",
            "Minimum 4\n",
            "Average is 23.0\n"
          ]
        }
      ]
    },
    {
      "cell_type": "code",
      "source": [
        "#17\n",
        "N=int(input(\"Enter number: \"))\n",
        "for i in range (1,N+1,1):\n",
        "  for j in range (1,N+1,1):\n",
        "    print(\"+\",end=\"\")\n",
        "  print()"
      ],
      "metadata": {
        "colab": {
          "base_uri": "https://localhost:8080/"
        },
        "id": "fyQyNRDaJvXN",
        "outputId": "11634f8a-e00b-45ff-ecd6-551e616d0a65"
      },
      "execution_count": null,
      "outputs": [
        {
          "output_type": "stream",
          "name": "stdout",
          "text": [
            "Enter number: 5\n",
            "+++++\n",
            "+++++\n",
            "+++++\n",
            "+++++\n",
            "+++++\n"
          ]
        }
      ]
    },
    {
      "cell_type": "code",
      "source": [
        "#18\n",
        "m = int(input())\n",
        "n = int(input())\n",
        "for i in range (1,m+1,1):\n",
        "  for j in range (1,n+1,1):\n",
        "    print(j,end=\"\")\n",
        "  print( )"
      ],
      "metadata": {
        "colab": {
          "base_uri": "https://localhost:8080/"
        },
        "id": "DbcwIChwmH4k",
        "outputId": "827328f3-d8d3-4c52-f76b-b017cefe379c"
      },
      "execution_count": null,
      "outputs": [
        {
          "output_type": "stream",
          "name": "stdout",
          "text": [
            "4\n",
            "6\n",
            "123456\n",
            "123456\n",
            "123456\n",
            "123456\n"
          ]
        }
      ]
    },
    {
      "cell_type": "code",
      "source": [
        "number=int(input(\"enter number: \"))\n",
        "for row in range(1,number+1,1):     #19\n",
        "  for column in range (1,row+1,1):\n",
        "    print(column,end=\"\")\n",
        "  print()"
      ],
      "metadata": {
        "colab": {
          "base_uri": "https://localhost:8080/"
        },
        "id": "1Hp__SI-Ohjg",
        "outputId": "ea96888d-59f5-4b96-c80c-034f1683f358"
      },
      "execution_count": null,
      "outputs": [
        {
          "output_type": "stream",
          "name": "stdout",
          "text": [
            "enter number: 4\n",
            "1\n",
            "12\n",
            "123\n",
            "1234\n"
          ]
        }
      ]
    },
    {
      "cell_type": "code",
      "source": [
        "number=int(input(\"enter number: \"))\n",
        "for row in range(1,number+1,1):     #19\n",
        "  for column in range (1,row+1,1):\n",
        "    print(\"1\",end=\"\")\n",
        "  print(\" \",end=\"\" )"
      ],
      "metadata": {
        "colab": {
          "base_uri": "https://localhost:8080/"
        },
        "outputId": "2e3a31f1-4816-49d6-8e3d-5e33b72c1aec",
        "id": "RHQBBVdhHIQn"
      },
      "execution_count": null,
      "outputs": [
        {
          "output_type": "stream",
          "name": "stdout",
          "text": [
            "enter number: 4\n",
            "1 11 111 1111 "
          ]
        }
      ]
    },
    {
      "cell_type": "code",
      "source": [
        "#20\n",
        "x = 0\n",
        "p =0\n",
        "sum = 0\n",
        "p = 1\n",
        "x = 2\n",
        "q = None\n",
        "sum = 0\n",
        "while p < 12:\n",
        "    q = x + p - (sum + 7 / 3) / 3.0 % 2\n",
        "    sum = sum + x + int(q)\n",
        "    x += 1\n",
        "    print(sum)\n",
        "    if x > 5:\n",
        "        p += 4 / 2\n",
        "    else:\n",
        "        p += (3 % 1)\n",
        "sum = int(sum + p)\n",
        "print(sum)\n",
        "\n"
      ],
      "metadata": {
        "colab": {
          "base_uri": "https://localhost:8080/"
        },
        "id": "4BpY1O6Q92Yf",
        "outputId": "7ce73ff9-6f9c-4b60-c5ce-6c823d0e7bb7"
      },
      "execution_count": null,
      "outputs": [
        {
          "output_type": "stream",
          "name": "stdout",
          "text": [
            "4\n",
            "10\n",
            "18\n",
            "28\n",
            "42\n",
            "60\n",
            "82\n",
            "108\n",
            "138\n",
            "151\n"
          ]
        }
      ]
    },
    {
      "cell_type": "code",
      "source": [
        "#21\n",
        "x = 0\n",
        "p = 0\n",
        "sum = 0\n",
        "p = 1\n",
        "x = 2\n",
        "q = 0.0\n",
        "sum = 0\n",
        "while (p < 10) :\n",
        "  q = x + p - (sum + int(5 / 3)) / 3.0 % 2\n",
        "  sum = sum + x + int(q)\n",
        "  x += 1\n",
        "  print(sum)\n",
        "  if (x > 5) :\n",
        "    p += int(4 / 2)\n",
        "  else :\n",
        "    p += 3 % 1\n",
        "sum = sum + p\n",
        "print(sum)\n",
        "\n"
      ],
      "metadata": {
        "colab": {
          "base_uri": "https://localhost:8080/"
        },
        "id": "tTumIe2DK-CF",
        "outputId": "150cb098-46f8-4f4c-94bc-a7844ba7d883"
      },
      "execution_count": null,
      "outputs": [
        {
          "output_type": "stream",
          "name": "stdout",
          "text": [
            "4\n",
            "9\n",
            "16\n",
            "25\n",
            "39\n",
            "56\n",
            "78\n",
            "104\n",
            "115\n"
          ]
        }
      ]
    },
    {
      "cell_type": "code",
      "source": [
        "#22\n",
        "x = y = 0 \n",
        "sum = 0\n",
        "while (x < 10):\n",
        "  y = x - 3\n",
        "  while (y < 3):\n",
        "    sum = x - y * 2 \n",
        "    print(sum)\n",
        "    y = y + 1\n",
        "  if (x > 7): \n",
        "    x += 1\n",
        "  else: \n",
        "    x += 3\n",
        "sum = x - y * 2\n",
        "print(sum)\n",
        "\n"
      ],
      "metadata": {
        "colab": {
          "base_uri": "https://localhost:8080/"
        },
        "id": "nSnQnPM1uvI9",
        "outputId": "a6cb3cc9-6996-4ead-f410-f62beceefddf"
      },
      "execution_count": null,
      "outputs": [
        {
          "output_type": "stream",
          "name": "stdout",
          "text": [
            "6\n",
            "4\n",
            "2\n",
            "0\n",
            "-2\n",
            "-4\n",
            "3\n",
            "1\n",
            "-1\n",
            "-2\n"
          ]
        }
      ]
    },
    {
      "cell_type": "code",
      "source": [
        "#23\n",
        "x = 0\n",
        "y = 0\n",
        "sum = 0\n",
        "p = 0.0\n",
        "while (x < 10):\n",
        "    y = x // 2\n",
        "    while (y < x):\n",
        "        p = (x + 10.0) / 2\n",
        "        sum = (sum % 2) + x - y * 2 + int(p)\n",
        "        print(sum)\n",
        "        y = y + 2\n",
        "    if (x > 5):\n",
        "        x += 1\n",
        "    else:\n",
        "        x += 2\n",
        "\n"
      ],
      "metadata": {
        "colab": {
          "base_uri": "https://localhost:8080/"
        },
        "id": "OVBg9c_DCGyF",
        "outputId": "80bc4424-fc01-4a1e-a17c-900c3bb0b676"
      },
      "execution_count": null,
      "outputs": [
        {
          "output_type": "stream",
          "name": "stdout",
          "text": [
            "6\n",
            "7\n",
            "9\n",
            "5\n",
            "10\n",
            "5\n",
            "10\n",
            "5\n",
            "11\n",
            "7\n",
            "3\n"
          ]
        }
      ]
    },
    {
      "cell_type": "code",
      "source": [
        "#24\n",
        "test = 1\n",
        "j = 0\n",
        "k = 100\n",
        "while (k > 0):\n",
        "  while ( j < k ):\n",
        "    test = k + j -21\n",
        "    print(str(1 + int (test / 2)))\n",
        "    j += 10\n",
        "  k -= 10\n",
        "\n",
        "\n"
      ],
      "metadata": {
        "colab": {
          "base_uri": "https://localhost:8080/"
        },
        "id": "St7KLjKIITtZ",
        "outputId": "759f0b54-5920-49d5-e479-6618c05c2d50"
      },
      "execution_count": null,
      "outputs": [
        {
          "output_type": "stream",
          "name": "stdout",
          "text": [
            "40\n",
            "45\n",
            "50\n",
            "55\n",
            "60\n",
            "65\n",
            "70\n",
            "75\n",
            "80\n",
            "85\n"
          ]
        }
      ]
    }
  ]
}