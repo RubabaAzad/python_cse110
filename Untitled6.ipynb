{
  "nbformat": 4,
  "nbformat_minor": 0,
  "metadata": {
    "colab": {
      "provenance": []
    },
    "kernelspec": {
      "name": "python3",
      "display_name": "Python 3"
    },
    "language_info": {
      "name": "python"
    }
  },
  "cells": [
    {
      "cell_type": "code",
      "source": [
        "#1\n",
        "a_tuple=(\"The Institute\", (\"Best Mystery & Thriller\", \"The Silent Patient\", 68821), 75717,\n",
        "[1, 2, 3, 400, 5, 6, 7], (\"Best Fiction\", \"The Testaments\", 98291))\n",
        "print(a_tuple[3][3])"
      ],
      "metadata": {
        "colab": {
          "base_uri": "https://localhost:8080/"
        },
        "id": "8z53mqO6i3ms",
        "outputId": "6413d592-c44c-496c-8d66-da6455ea05ec"
      },
      "execution_count": null,
      "outputs": [
        {
          "output_type": "stream",
          "name": "stdout",
          "text": [
            "400\n"
          ]
        }
      ]
    },
    {
      "cell_type": "code",
      "source": [
        "#2\n",
        "my_tuple=(-10, 20, 30, 40)\n",
        "new_tuple=my_tuple[2:-2:1]\n",
        "print(new_tuple)\n"
      ],
      "metadata": {
        "colab": {
          "base_uri": "https://localhost:8080/"
        },
        "id": "y2DLyqkWlhcZ",
        "outputId": "5820fdb2-1e60-40ab-c88a-d2949deadeb4"
      },
      "execution_count": null,
      "outputs": [
        {
          "output_type": "stream",
          "name": "stdout",
          "text": [
            "()\n"
          ]
        }
      ]
    },
    {
      "cell_type": "code",
      "source": [
        "#2\n",
        "tuple1=input(\"enter the tuple: \")\n",
        "my_tuple=(tuple1[1:-1]).split(\",\")\n",
        "\n",
        "for i in range (len(my_tuple)):\n",
        "   my_tuple[i]=int(my_tuple[i])\n",
        "  \n",
        "print(tuple(my_tuple[2:-2:1]))\n"
      ],
      "metadata": {
        "colab": {
          "base_uri": "https://localhost:8080/"
        },
        "id": "pox_AewsjFoh",
        "outputId": "036c6eb9-7f95-445e-93c3-475f259b658e"
      },
      "execution_count": null,
      "outputs": [
        {
          "output_type": "stream",
          "name": "stdout",
          "text": [
            "enter the tuple: (8,12,10,20,30)\n",
            "(10,)\n"
          ]
        }
      ]
    },
    {
      "cell_type": "code",
      "source": [
        "#3\n",
        "book_info = ((\"Best Mystery & Thriller\",\"The Silent Patient\",68,821),\n",
        "(\"Best Horror\",\"The Institute\",75,717),\n",
        "(\"Best History & Biography\",\"The five\",31,783 ),\n",
        "(\"Best Fiction\",\"The Testaments\",98,291))\n",
        "print(\"Size of the tuple is:\",len(book_info))\n",
        "for items in book_info:\n",
        "  print(items)"
      ],
      "metadata": {
        "colab": {
          "base_uri": "https://localhost:8080/"
        },
        "id": "43kSZWxsmwbz",
        "outputId": "4d6d11f5-3f9d-46c6-e948-2f6ff2750b14"
      },
      "execution_count": null,
      "outputs": [
        {
          "output_type": "stream",
          "name": "stdout",
          "text": [
            "Size of the tuple is: 4\n",
            "('Best Mystery & Thriller', 'The Silent Patient', 68, 821)\n",
            "('Best Horror', 'The Institute', 75, 717)\n",
            "('Best History & Biography', 'The five', 31, 783)\n",
            "('Best Fiction', 'The Testaments', 98, 291)\n"
          ]
        }
      ]
    },
    {
      "cell_type": "code",
      "source": [
        "#4\n",
        "book_info = (\n",
        "(\"Best Mystery & Thriller\",\"The Silent Patient\",68821),\n",
        "(\"Best Horror\",\"The Institute\",75717),\n",
        "(\"Best History & Biography\",\"The five\",31783 ),\n",
        "(\"Best Fiction\",\"The Testaments\",98291)\n",
        ") \n",
        "a,b,c,d=book_info\n",
        "award1,name1,vote1=a\n",
        "award2,name2,vote2=b\n",
        "award3,name3,vote3=c\n",
        "print(name1,\"won the\",\"'\"+award1+\"'\",\"category with\",vote1,\"votes\")"
      ],
      "metadata": {
        "colab": {
          "base_uri": "https://localhost:8080/"
        },
        "id": "0tDK0UmQolXM",
        "outputId": "6d66843d-1663-4a6a-e37f-c83a5b231934"
      },
      "execution_count": null,
      "outputs": [
        {
          "output_type": "stream",
          "name": "stdout",
          "text": [
            "The Silent Patient won the 'Best Mystery & Thriller' category with 68821 votes\n"
          ]
        }
      ]
    },
    {
      "cell_type": "code",
      "source": [
        "#4x\n",
        "book_info = (\n",
        "(\"Best Mystery & Thriller\",\"The Silent Patient\",68821),\n",
        "(\"Best Horror\",\"The Institute\",75717),\n",
        "(\"Best History & Biography\",\"The five\",31783 ),\n",
        "(\"Best Fiction\",\"The Testaments\",98291)\n",
        ") \n",
        "for i in book_info:\n",
        "  a,b,c=i\n",
        "  print(b,\"won the\",\"'\"+a+\"'\",\"category with\",str(c),\"votes.\")"
      ],
      "metadata": {
        "colab": {
          "base_uri": "https://localhost:8080/"
        },
        "id": "C7RmgaaamBQF",
        "outputId": "2f53c07f-3616-418a-c705-f1d601027c1d"
      },
      "execution_count": null,
      "outputs": [
        {
          "output_type": "stream",
          "name": "stdout",
          "text": [
            "The Silent Patient won the 'Best Mystery & Thriller' category with 68821 votes.\n",
            "The Institute won the 'Best Horror' category with 75717 votes.\n",
            "The five won the 'Best History & Biography' category with 31783 votes.\n",
            "The Testaments won the 'Best Fiction' category with 98291 votes.\n"
          ]
        }
      ]
    },
    {
      "cell_type": "code",
      "source": [
        "#5\n",
        "tuple1= (10, 8, 5, 2, 10, 15, 10, 8, 5, 8, 8, 2)\n",
        "number=int(input(\"enter a number: \"))\n",
        "print(number,\"appears\",tuple1.count(number),\"times in the tuple\")\n"
      ],
      "metadata": {
        "colab": {
          "base_uri": "https://localhost:8080/"
        },
        "id": "v5d0IWVFss9u",
        "outputId": "82c436ae-c146-4b53-8255-802954c39d26"
      },
      "execution_count": null,
      "outputs": [
        {
          "output_type": "stream",
          "name": "stdout",
          "text": [
            "enter a number3\n",
            "3 appears 0 times in the tuple\n"
          ]
        }
      ]
    },
    {
      "cell_type": "code",
      "source": [
        "tuple1= (10, 8, 5, 2, 10, 15, 10, 8, 5, 8, 8, 2)\n",
        "list1=list(tuple1)\n",
        "number=int(input(\"enter a number: \"))\n",
        "count=0\n",
        "for i in list1:\n",
        "  if i==number:\n",
        "    count+=1\n",
        "print(number,\"appears\",count,\"times in the tuple\")"
      ],
      "metadata": {
        "colab": {
          "base_uri": "https://localhost:8080/"
        },
        "id": "2Al_2YUF1EgV",
        "outputId": "55e5b89a-75eb-4bfb-b229-a08ee34a4954"
      },
      "execution_count": null,
      "outputs": [
        {
          "output_type": "stream",
          "name": "stdout",
          "text": [
            "enter a number: 8\n",
            "8 appears 4 times in the tuple\n"
          ]
        }
      ]
    },
    {
      "cell_type": "code",
      "source": [
        "#6\n",
        "tuple1=('a', 'b', 'c', 'd', 'e', 'f', 'g', 'h')\n",
        "list1=list(tuple1)\n",
        "#print(list1)\n",
        "list1.reverse()\n",
        "nw_tuple=tuple(list1)\n",
        "print(nw_tuple)                                                                                                                                                             "
      ],
      "metadata": {
        "colab": {
          "base_uri": "https://localhost:8080/"
        },
        "id": "GeX7ueZDuu0G",
        "outputId": "d7316b5c-9b78-4a2c-e005-7bd09bc81981"
      },
      "execution_count": null,
      "outputs": [
        {
          "output_type": "stream",
          "name": "stdout",
          "text": [
            "('h', 'g', 'f', 'e', 'd', 'c', 'b', 'a')\n"
          ]
        }
      ]
    },
    {
      "cell_type": "code",
      "source": [
        "tuple1=('a', 'b', 'c', 'd', 'e', 'f', 'g', 'h')\n",
        "list1=list(tuple1)\n",
        "list2=[]\n",
        "for i in range (len(list1)-1,-1,-1):\n",
        "  list2.append(list1[i])\n",
        "print(list2)"
      ],
      "metadata": {
        "colab": {
          "base_uri": "https://localhost:8080/"
        },
        "id": "QdOmN5e0qvlp",
        "outputId": "89b75339-537b-49e5-ad11-cbbd0cbc9445"
      },
      "execution_count": null,
      "outputs": [
        {
          "output_type": "stream",
          "name": "stdout",
          "text": [
            "['h', 'g', 'f', 'e', 'd', 'c', 'b', 'a']\n"
          ]
        }
      ]
    },
    {
      "cell_type": "code",
      "source": [
        "#7\n",
        "marks1={'Harry':15, 'Draco':8, 'Nevil':19}\n",
        "marks2={'Ginie':18, 'Luna': 14}\n",
        "marks3={}\n",
        "for key,value in marks1.items():\n",
        "  marks3.update({key:value})\n",
        "#print(marks3)\n",
        "for keys,values in marks2.items():\n",
        "  marks3.update({keys:values})\n",
        "print(marks3)"
      ],
      "metadata": {
        "colab": {
          "base_uri": "https://localhost:8080/"
        },
        "id": "zN8rVXQ2vdnE",
        "outputId": "df607d1e-b523-4383-8699-1a87471ec87b"
      },
      "execution_count": null,
      "outputs": [
        {
          "output_type": "stream",
          "name": "stdout",
          "text": [
            "{'Harry': 15, 'Draco': 8, 'Nevil': 19, 'Ginie': 18, 'Luna': 14}\n"
          ]
        }
      ]
    },
    {
      "cell_type": "code",
      "source": [
        "#8\n",
        "dict1={}\n",
        "length=int(input(\"enter the len of dictionary: \"))\n",
        "count=0\n",
        "while count<length:\n",
        "  count+=1\n",
        "  keys=input(\"enter keys: \")\n",
        "  values=int(input(\"numbers: \"))\n",
        "  dict1.update({keys:values})\n",
        "print(dict1)\n",
        "count1=0\n",
        "sum=0\n",
        "for values in dict1.values():\n",
        "  count1+=1\n",
        "  sum=sum+values\n",
        "print(\"Average is\",int(sum/count1))"
      ],
      "metadata": {
        "colab": {
          "base_uri": "https://localhost:8080/"
        },
        "id": "N2rTiHIBy6uq",
        "outputId": "0582b1e9-1991-4501-88af-80f2cc2b9acc"
      },
      "execution_count": null,
      "outputs": [
        {
          "output_type": "stream",
          "name": "stdout",
          "text": [
            "enter the len of dictionary: 3\n",
            "enter keys: Jon\n",
            "numbers: 100\n",
            "enter keys: Dan\n",
            "numbers: 200\n",
            "enter keys: Rob\n",
            "numbers: 300\n",
            "{'Jon': 100, 'Dan': 200, 'Rob': 300}\n",
            "Average is 200\n"
          ]
        }
      ]
    },
    {
      "cell_type": "code",
      "source": [
        "#8\n",
        "str1=input(\"Enter the dict:\")\n",
        "user=str1[1:-1]\n",
        "user_list=user.split(\",\")\n",
        "print(user_list)\n",
        "sum=0\n",
        "count=0\n",
        "for i in user_list:\n",
        "  item=i.split(':')\n",
        "  sum=sum+int(item[1])\n",
        "  count+=1\n",
        "print(\"Average is\",int(sum/count))"
      ],
      "metadata": {
        "colab": {
          "base_uri": "https://localhost:8080/"
        },
        "id": "sh8qYIOptyIg",
        "outputId": "0252489f-80ea-41ad-e019-e14a53c36e93"
      },
      "execution_count": null,
      "outputs": [
        {
          "output_type": "stream",
          "name": "stdout",
          "text": [
            "Enter the dict:{jon:100,dan:200,rob:300}\n",
            "['jon:100', 'dan:200', 'rob:300']\n",
            "Average is 200\n"
          ]
        }
      ]
    },
    {
      "cell_type": "code",
      "source": [
        "u=25/2\n",
        "print(int(u))"
      ],
      "metadata": {
        "colab": {
          "base_uri": "https://localhost:8080/"
        },
        "id": "IghPUuKtSOjE",
        "outputId": "11b70f02-ea08-4d09-bb1b-cdfae7e7a0ae"
      },
      "execution_count": null,
      "outputs": [
        {
          "output_type": "stream",
          "name": "stdout",
          "text": [
            "12\n"
          ]
        }
      ]
    },
    {
      "cell_type": "code",
      "source": [],
      "metadata": {
        "id": "IfdAM3ZOxYKD"
      },
      "execution_count": null,
      "outputs": []
    },
    {
      "cell_type": "code",
      "source": [
        "#9\n",
        "exam_marks = {'Cierra Vega': 175, 'Alden Cantrell': 200, 'Kierra Gentry': 165, 'Pierre Cox': 190}\n",
        "number=int(input(\"Enter a number: \"))\n",
        "marks={}\n",
        "for keys,values in exam_marks.items():\n",
        "  if values>=number:\n",
        "    marks.update({keys:values})\n",
        "print(marks)"
      ],
      "metadata": {
        "colab": {
          "base_uri": "https://localhost:8080/"
        },
        "id": "mmuNI5oE2-E3",
        "outputId": "c19a58c1-6762-420b-b96c-53f2401c1f13"
      },
      "execution_count": null,
      "outputs": [
        {
          "output_type": "stream",
          "name": "stdout",
          "text": [
            "Enter a number: 190\n",
            "{'Alden Cantrell': 200, 'Pierre Cox': 190}\n"
          ]
        }
      ]
    },
    {
      "cell_type": "code",
      "source": [
        "#10\n",
        "dict1={'sci fi': 12, 'mystery': 15, 'horror': 8, 'mythology': 10, 'young_adult': 4, 'adventure':14}\n",
        "max=dict1['sci fi']\n",
        "for keys,values in dict1.items():\n",
        "  if values>max:\n",
        "    max=values\n",
        "    final_keys=keys\n",
        "  else:\n",
        "    max=max\n",
        "print(\"The highest selling book genre is\",\"'\"+final_keys+\"'\",\"and the number of books sold are\",str(max)+\".\")    "
      ],
      "metadata": {
        "colab": {
          "base_uri": "https://localhost:8080/"
        },
        "id": "y5hNnqyp4iUF",
        "outputId": "da802208-e264-4d68-de87-eb2540177e15"
      },
      "execution_count": null,
      "outputs": [
        {
          "output_type": "stream",
          "name": "stdout",
          "text": [
            "The highest selling book genre is 'mystery' and the number of books sold are 15.\n"
          ]
        }
      ]
    },
    {
      "cell_type": "code",
      "source": [
        "#11\n",
        "string1 =input(\"Enter a string: \").lower()\n",
        "my_dict = {}\n",
        "for i in string1:\n",
        "    if i in my_dict:\n",
        "        my_dict[i] += 1\n",
        "    else:\n",
        "        my_dict[i] = 1\n",
        "if \" \" in my_dict:\n",
        "    my_dict.pop(\" \")\n",
        "print(my_dict)"
      ],
      "metadata": {
        "colab": {
          "base_uri": "https://localhost:8080/"
        },
        "id": "_tQ9HnLO9NKQ",
        "outputId": "7126b0c3-4cb2-46dd-ebc9-3fe4ff370c1d"
      },
      "execution_count": null,
      "outputs": [
        {
          "output_type": "stream",
          "name": "stdout",
          "text": [
            "Enter a string: Python programming is fun\n",
            "{'p': 2, 'y': 1, 't': 1, 'h': 1, 'o': 2, 'n': 3, 'r': 2, 'g': 2, 'a': 1, 'm': 2, 'i': 2, 's': 1, 'f': 1, 'u': 1}\n"
          ]
        }
      ]
    },
    {
      "cell_type": "code",
      "source": [
        "#12\n",
        "dict_1 = {'A': [1, 2, 3], 'b': ['1', '2'], \"c\": [4, 5, 6, 7]}\n",
        "count=0\n",
        "for values in dict_1.values():\n",
        "  for i in values:\n",
        "    count+=1\n",
        "print(count)"
      ],
      "metadata": {
        "colab": {
          "base_uri": "https://localhost:8080/"
        },
        "id": "VjcjZH9X-SSF",
        "outputId": "6e7512c0-d7c6-49dc-c90e-b5627014c364"
      },
      "execution_count": null,
      "outputs": [
        {
          "output_type": "stream",
          "name": "stdout",
          "text": [
            "9\n"
          ]
        }
      ]
    },
    {
      "cell_type": "code",
      "source": [
        "#13\n",
        "list_1 = [(\"a\", 1), (\"b\", 2), (\"a\", 3), (\"b\", 1), (\"a\", 2), (\"c\", 1)]\n",
        "my_dict = {}\n",
        "for key, value in list_1:\n",
        "    if key not in my_dict:\n",
        "        my_dict[key] = [value] \n",
        "    else:\n",
        "        my_dict[key].append(value)\n",
        "print(my_dict)"
      ],
      "metadata": {
        "colab": {
          "base_uri": "https://localhost:8080/"
        },
        "id": "pNRWrgOoBtRM",
        "outputId": "5e3ee5fa-8efa-4a2c-b199-76968760bdae"
      },
      "execution_count": null,
      "outputs": [
        {
          "output_type": "stream",
          "name": "stdout",
          "text": [
            "{'a': [1, 3, 2], 'b': [2, 1], 'c': [1]}\n"
          ]
        }
      ]
    },
    {
      "cell_type": "code",
      "source": [
        "dict1={}\n",
        "list_1 = [(\"a\", 1), (\"b\", 2), (\"a\", 3), (\"b\", 1), (\"a\", 2), (\"c\", 1)]\n",
        "for i in list_1:\n",
        "  if i[0] not in dict1:\n",
        "    dict1[i[0]] =[]\n",
        "    dict1[i[0]].append(i[1])\n",
        "  else:\n",
        "    dict1[i[0]].append(i[1])\n",
        "print(dict1)"
      ],
      "metadata": {
        "colab": {
          "base_uri": "https://localhost:8080/"
        },
        "id": "5hGW0SIs4YgD",
        "outputId": "f67bfce0-0d1b-4efb-b57f-c4a23794247c"
      },
      "execution_count": null,
      "outputs": [
        {
          "output_type": "stream",
          "name": "stdout",
          "text": [
            "{'a': [1, 3, 2], 'b': [2, 1], 'c': [1]}\n"
          ]
        }
      ]
    },
    {
      "cell_type": "code",
      "source": [
        "dict1 = {'a':59 , 'b':-82 , 'c':5 , 'd':-81 , 'e':53}\n",
        "for i in dict1:\n",
        "    j = 0\n",
        "    k = 22\n",
        "    while j < 5:\n",
        "        if j % 2 == 0:\n",
        "            k = dict1[i] + j - (8 + k % 6) / 3\n",
        "            dict1[i] = dict1[i]+ int(k)\n",
        "        else:\n",
        "            k = dict1[i] + j - (6 - k % 8) * 3\n",
        "            dict1[i] = dict1[i] - int(k)\n",
        "        j += 1\n",
        "    print(int(k))\n",
        "    print(i + \" -> \" + str(dict1[i]))\n",
        "\n"
      ],
      "metadata": {
        "colab": {
          "base_uri": "https://localhost:8080/"
        },
        "id": "t5jGZTBEj4kK",
        "outputId": "baea2727-2207-4a34-8c26-3329fc83a416"
      },
      "execution_count": null,
      "outputs": [
        {
          "output_type": "stream",
          "name": "stdout",
          "text": [
            "8\n",
            "a -> 17\n",
            "10\n",
            "b -> 19\n",
            "2\n",
            "c -> 5\n",
            "-7\n",
            "d -> -14\n",
            "2\n",
            "e -> 5\n"
          ]
        }
      ]
    },
    {
      "cell_type": "code",
      "source": [
        "print(9+4-(8+(-8.0)%6)/3)"
      ],
      "metadata": {
        "colab": {
          "base_uri": "https://localhost:8080/"
        },
        "id": "5WwBrHUh75h1",
        "outputId": "36cb556a-dd60-4d3e-b90a-8809973d843f"
      },
      "execution_count": null,
      "outputs": [
        {
          "output_type": "stream",
          "name": "stdout",
          "text": [
            "9.0\n"
          ]
        }
      ]
    },
    {
      "cell_type": "code",
      "source": [
        "print(1+3-(6-(10.0)%8)*3)"
      ],
      "metadata": {
        "colab": {
          "base_uri": "https://localhost:8080/"
        },
        "id": "stkX8bTDl-oj",
        "outputId": "1ce6c52d-6448-42b5-e3e1-588f5a097c92"
      },
      "execution_count": null,
      "outputs": [
        {
          "output_type": "stream",
          "name": "stdout",
          "text": [
            "-8.0\n"
          ]
        }
      ]
    }
  ]
}