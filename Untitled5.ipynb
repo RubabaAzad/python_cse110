{
  "cells": [
    {
      "cell_type": "code",
      "execution_count": null,
      "metadata": {
        "colab": {
          "base_uri": "https://localhost:8080/"
        },
        "id": "eJWJCFXcq-Bc",
        "outputId": "0eb81b5f-1073-44f5-dba5-be497d103c44"
      },
      "outputs": [
        {
          "name": "stdout",
          "output_type": "stream",
          "text": [
            "enter numbers separated by coma: 1, 3, 5, 7, 9, 10\n",
            "enter numbers separated by coma: 2, 4, 6, 8\n",
            "[1, 3, 5, 7, 9]\n",
            "[2, 4, 6, 8]\n",
            "[1, 3, 5, 7, 9, 2, 4, 6, 8]\n"
          ]
        }
      ],
      "source": [
        "\n",
        "numbers1=input(\"enter numbers separated by coma: \")\n",
        "numbers2=input(\"enter numbers separated by coma: \")\n",
        "list1=numbers1.split(\",\")\n",
        "list2=numbers2.split(\",\")\n",
        "for i in range (len(list1)):\n",
        "  list1[i]=int(list1[i])\n",
        "list1.pop()\n",
        "for j in range (len(list2)):\n",
        "  list2[j]=int(list2[j])\n",
        "print(list1+list2)"
      ]
    },
    {
      "cell_type": "code",
      "source": [
        "dict1={(2,3,2):\"a\",(1,2,3):\"b\",(3,3,3):\"c\"}\n",
        "sum=0\n",
        "dict2={}\n",
        "for k,v in dict1.items():\n",
        "  for i in k:\n",
        "    sum+=i\n",
        "  dict2[sum]=v\n",
        "  sum=0\n",
        "print(dict2)"
      ],
      "metadata": {
        "colab": {
          "base_uri": "https://localhost:8080/"
        },
        "id": "AnnyU2aza--5",
        "outputId": "ece71c5c-721a-4ebc-c78b-ef2a08f3d859"
      },
      "execution_count": null,
      "outputs": [
        {
          "output_type": "stream",
          "name": "stdout",
          "text": [
            "{7: 'a', 6: 'b', 9: 'c'}\n"
          ]
        }
      ]
    },
    {
      "cell_type": "code",
      "source": [
        "def fn(num):\n",
        "  str1=\"\"\n",
        "  for i in range (len(num)):\n",
        "    num[i]=str(num[i])\n",
        "    str1+=num[i]\n",
        "  return str1\n",
        "print(fn([\"hi\",1,\"3\",True,9.5]))"
      ],
      "metadata": {
        "colab": {
          "base_uri": "https://localhost:8080/"
        },
        "id": "DLBG1HERdBvO",
        "outputId": "47cd4420-1944-48bf-ac93-12a341c5f2f7"
      },
      "execution_count": null,
      "outputs": [
        {
          "output_type": "stream",
          "name": "stdout",
          "text": [
            "hi13True9.5\n"
          ]
        }
      ]
    },
    {
      "cell_type": "code",
      "source": [
        "number=input()\n",
        "new=(number[1:-1]).split(\",\")\n",
        "print(new)\n",
        "list1=[]\n",
        "for i in range (len(new)):\n",
        "  new[i]=int(new[i])\n",
        "  #list1.append(new)\n",
        "print(new)"
      ],
      "metadata": {
        "colab": {
          "base_uri": "https://localhost:8080/"
        },
        "id": "zQaQVGRt1_Q4",
        "outputId": "5e117f2d-8b19-49c3-df7e-e2941c2e2d9e"
      },
      "execution_count": null,
      "outputs": [
        {
          "output_type": "stream",
          "name": "stdout",
          "text": [
            "[1,2,3]\n",
            "['1', '2', '3']\n",
            "[1, 2, 3]\n"
          ]
        }
      ]
    },
    {
      "cell_type": "code",
      "execution_count": null,
      "metadata": {
        "colab": {
          "base_uri": "https://localhost:8080/"
        },
        "id": "r4ZsN5pchr28",
        "outputId": "f3646e00-5116-477d-9ffe-221153b4ec20"
      },
      "outputs": [
        {
          "name": "stdout",
          "output_type": "stream",
          "text": [
            "enter items separated by coma: hey,there,,what's,,up,,?\n",
            "['hey', 'there', \"what's\", 'up', '?']\n"
          ]
        }
      ],
      "source": [
        "\n",
        "list2=[]\n",
        "list1=input(\"enter items separated by coma: \")\n",
        "list=list1.split(\",\")\n",
        "for i in (list):\n",
        "  if i==\"\":\n",
        "    list.remove(\"\")\n",
        "print(list)"
      ]
    },
    {
      "cell_type": "code",
      "execution_count": null,
      "metadata": {
        "colab": {
          "base_uri": "https://localhost:8080/"
        },
        "id": "DgjnmjZhZFea",
        "outputId": "1956137b-b3fb-4ddd-c550-a9946b61eecc"
      },
      "outputs": [
        {
          "name": "stdout",
          "output_type": "stream",
          "text": [
            "enter the len of your list: 7\n",
            "Enter numbers: 1\n",
            "Enter numbers: 2\n",
            "Enter numbers: 3\n",
            "Enter numbers: 4\n",
            "Enter numbers: 5\n",
            "Enter numbers: 6\n",
            "Enter numbers: 7\n",
            "[1, 4, 9, 16, 25, 36, 49]\n"
          ]
        }
      ],
      "source": [
        "\n",
        "numbers=int(input(\"enter the len of your list: \"))\n",
        "list=[]\n",
        "for i in range (numbers):\n",
        "   numbers=int(input(\"Enter numbers: \"))\n",
        "   list.append(numbers)\n",
        "list1=[]\n",
        "for j in list:\n",
        "  j=j**2\n",
        "  list1.append(j)\n",
        "print(list1)"
      ]
    },
    {
      "cell_type": "code",
      "execution_count": null,
      "metadata": {
        "colab": {
          "base_uri": "https://localhost:8080/"
        },
        "id": "Qj9aARNeWUpO",
        "outputId": "25e10e50-9433-4ac5-c6b4-1df65a60f88a"
      },
      "outputs": [
        {
          "name": "stdout",
          "output_type": "stream",
          "text": [
            "Enter numbers separated by coma: 1,2,3,4,5,6,7\n",
            "[1, 4, 9, 16, 25, 36, 49]\n"
          ]
        }
      ],
      "source": [
        "\n",
        "numbers=(input(\"Enter numbers separated by coma: \"))\n",
        "list=numbers.split(\",\")\n",
        "for i in range (len(list)):\n",
        "  list[i]=int(list[i])\n",
        "list1=[]\n",
        "for j in list:\n",
        "  j=j**2\n",
        "  list1.append(j)\n",
        "print(list1)"
      ]
    },
    {
      "cell_type": "code",
      "execution_count": null,
      "metadata": {
        "colab": {
          "base_uri": "https://localhost:8080/"
        },
        "id": "de2RrQxfweY2",
        "outputId": "427df8a0-68d5-40b6-a242-359e6f803eb2"
      },
      "outputs": [
        {
          "name": "stdout",
          "output_type": "stream",
          "text": [
            "enter numbers: 3\n",
            "[3]\n",
            "enter numbers: 5\n",
            "[3, 5]\n",
            "enter numbers: 34\n",
            "[3, 5, 34]\n",
            "enter numbers: -11\n",
            "[3, 5, 34, -11]\n",
            "enter numbers: 0\n",
            "[3, 5, 34, -11, 0]\n"
          ]
        }
      ],
      "source": [
        "#1\n",
        "numbers_list=[]\n",
        "for i in range (0,5):\n",
        "  numbers=int(input(\"enter numbers: \"))\n",
        "  numbers_list.append(numbers)\n",
        "  print(\"Numbers in the list:\",numbers_list)"
      ]
    },
    {
      "cell_type": "code",
      "execution_count": null,
      "metadata": {
        "colab": {
          "base_uri": "https://localhost:8080/"
        },
        "id": "XqArdDkWLPGl",
        "outputId": "9271d830-60e8-4a8d-f1ab-3bcd4590d2db"
      },
      "outputs": [
        {
          "output_type": "stream",
          "name": "stdout",
          "text": [
            "enter the list: [1,2,3,4,5,6,7]\n",
            "[3, 4, 5]\n"
          ]
        }
      ],
      "source": [
        "#2\n",
        "numbers=input(\"enter the list: \")\n",
        "num=numbers[1:-1]\n",
        "new_list=num.split(\",\")\n",
        "for i in range (len(new_list)):\n",
        "  new_list[i]=int(new_list[i])\n",
        "if len(new_list)<4:\n",
        "  print(\"Not possible.\")\n",
        "else:\n",
        "  print(new_list[2:len(new_list)-2:1])"
      ]
    },
    {
      "cell_type": "code",
      "source": [],
      "metadata": {
        "id": "Sju_AOOCsVj1"
      },
      "execution_count": null,
      "outputs": []
    },
    {
      "cell_type": "code",
      "execution_count": null,
      "metadata": {
        "colab": {
          "base_uri": "https://localhost:8080/"
        },
        "outputId": "02303bcb-5ef3-4375-a07e-fcfc7d76dd1a",
        "id": "4pvI8MM5sW0A"
      },
      "outputs": [
        {
          "output_type": "stream",
          "name": "stdout",
          "text": [
            "enter the list: [1,2,3,4,5,6,7]\n",
            "[3, 4, 5]\n"
          ]
        }
      ],
      "source": [
        "#2\n",
        "numbers=input(\"enter the list: \")\n",
        "num=numbers[1:-1]\n",
        "new_list=num.split(\",\")\n",
        "for i in range (len(new_list)):\n",
        "  new_list[i]=int(new_list[i])\n",
        "if len(new_list)<4:\n",
        "  print(\"Not possible.\")\n",
        "else:\n",
        "  print(new_list[2:-2:1])"
      ]
    },
    {
      "cell_type": "code",
      "execution_count": null,
      "metadata": {
        "colab": {
          "base_uri": "https://localhost:8080/"
        },
        "id": "zXVrRRgxP6P2",
        "outputId": "c4b6846f-0c3d-4772-b1b7-7ce0149e1bbc"
      },
      "outputs": [
        {
          "output_type": "stream",
          "name": "stdout",
          "text": [
            "enter numbres: 5\n",
            "enter numbres: -5\n",
            "enter numbres: 100\n",
            "enter numbres: 1\n",
            "enter numbres: 0\n",
            "Printing values from the list in reverse order:\n",
            "0\n",
            "1\n",
            "100\n",
            "-5\n",
            "5\n"
          ]
        }
      ],
      "source": [
        "#3\n",
        "list1=[]\n",
        "for i in range(5):\n",
        "  numbers = int(input(\"enter numbres: \"))\n",
        "  list1.append(numbers)\n",
        "print(\"Printing values from the list in reverse order:\")\n",
        "list1.reverse()\n",
        "for j in list1:\n",
        "   print(j)"
      ]
    },
    {
      "cell_type": "code",
      "source": [
        "list1=[]\n",
        "for i in range (5):           #3\n",
        "  num=int(input())\n",
        "  list1.append(num)\n",
        "for j in range (len(list1)-1,-1,-1):\n",
        "  print(list1[j])\n",
        "               "
      ],
      "metadata": {
        "colab": {
          "base_uri": "https://localhost:8080/"
        },
        "id": "nXyrtIRit8iP",
        "outputId": "85140c46-8520-41bb-c961-f7243d73f618"
      },
      "execution_count": null,
      "outputs": [
        {
          "output_type": "stream",
          "name": "stdout",
          "text": [
            "5\n",
            "-5\n",
            "100\n",
            "1\n",
            "0\n",
            "0\n",
            "1\n",
            "100\n",
            "-5\n",
            "5\n"
          ]
        }
      ]
    },
    {
      "cell_type": "code",
      "execution_count": null,
      "metadata": {
        "colab": {
          "base_uri": "https://localhost:8080/"
        },
        "id": "TpPofgiZTXWD",
        "outputId": "2fb14fde-0243-4161-b19f-4f631bd07908"
      },
      "outputs": [
        {
          "output_type": "stream",
          "name": "stdout",
          "text": [
            "[9, 25, 1, 36]\n"
          ]
        }
      ],
      "source": [
        "#4\n",
        "list1=[3,5,1,6]\n",
        "list2=[]\n",
        "for items in list1:\n",
        "  items=items**2\n",
        "  list2.append(items)     \n",
        "print(list2)"
      ]
    },
    {
      "cell_type": "code",
      "source": [
        "list1=[3,5,1,6]\n",
        "list2=[]\n",
        "for items in list1:\n",
        "  items=items**2\n",
        "  list2.append(items)\n",
        "print(list2)"
      ],
      "metadata": {
        "colab": {
          "base_uri": "https://localhost:8080/"
        },
        "id": "FKCM2iiZvJL9",
        "outputId": "f8ec0f84-d960-49d0-a41a-cd58029a3bee"
      },
      "execution_count": null,
      "outputs": [
        {
          "output_type": "stream",
          "name": "stdout",
          "text": [
            "[9, 25, 1, 36]\n"
          ]
        }
      ]
    },
    {
      "cell_type": "code",
      "execution_count": null,
      "metadata": {
        "colab": {
          "base_uri": "https://localhost:8080/"
        },
        "id": "Z8zji87EUhQ1",
        "outputId": "e576d8cf-72e3-40d8-deca-0d8aa7b71dba"
      },
      "outputs": [
        {
          "name": "stdout",
          "output_type": "stream",
          "text": [
            "Original list: ['hey', 'there', '', \"what's\", '', 'up', '', '?']\n",
            "Modified list: ['hey', 'there', \"what's\", 'up', '?']\n"
          ]
        }
      ],
      "source": [
        "#5\n",
        "list1=['hey','there','',\"what's\",'','up','','?']\n",
        "print(\"Original list:\",list1)\n",
        "for i in list1:\n",
        "  if i=='':\n",
        "    list1.remove('')\n",
        "print(\"Modified list:\",list1)"
      ]
    },
    {
      "cell_type": "code",
      "execution_count": null,
      "metadata": {
        "colab": {
          "base_uri": "https://localhost:8080/"
        },
        "id": "lVvJ5N4xmWdP",
        "outputId": "ed996437-67e4-4cc3-9197-c3516bd9c8e5"
      },
      "outputs": [
        {
          "name": "stdout",
          "output_type": "stream",
          "text": [
            "enter numbers separated by coma: 7, 13, 2, 10, 6, -11, 0\n",
            "My List: [7, 13, 2, 10, 6, -11, 0]\n",
            "Largest number in the list is 13 which was found at index 1\n"
          ]
        }
      ],
      "source": [
        "#6\n",
        "numbers=input(\"enter numbers separated by coma: \")\n",
        "list1=numbers.split(\",\")\n",
        "for i in range (len(list1)):\n",
        "  list1[i]=int(list1[i])\n",
        "print(\"My List:\",list1)\n",
        "max=list1[0]\n",
        "for j in list1:\n",
        "  if j>=max:\n",
        "    max=j\n",
        "print(\"Largest number in the list is\",max,\"which was found at index\",list1.index(max))"
      ]
    },
    {
      "cell_type": "code",
      "execution_count": null,
      "metadata": {
        "colab": {
          "base_uri": "https://localhost:8080/"
        },
        "id": "AahUsujnWTB_",
        "outputId": "d95818b0-ca7e-47f8-9799-53c44a95676e"
      },
      "outputs": [
        {
          "name": "stdout",
          "output_type": "stream",
          "text": [
            "[1, 3, 5, 7, 9, 2, 4, 6, 8]\n"
          ]
        }
      ],
      "source": [
        "#7\n",
        "list1=[1,3,5,7,9,10]\n",
        "list2=[2,4,6,8]\n",
        "list3=list1[:-1:]\n",
        "print(list3+list2)"
      ]
    },
    {
      "cell_type": "code",
      "execution_count": null,
      "metadata": {
        "colab": {
          "base_uri": "https://localhost:8080/"
        },
        "id": "I7eYcZExYt2b",
        "outputId": "30bba643-42ed-4060-b2c4-3239e88d0d79"
      },
      "outputs": [
        {
          "name": "stdout",
          "output_type": "stream",
          "text": [
            "[2, 4, 6, 8, 10, 12, -14, -16]\n"
          ]
        }
      ],
      "source": [
        "#8\n",
        "list1=[1,2,3,4,5,6,7,8,9]\n",
        "list2=[10,11,12,-13,-14,-15,-16]\n",
        "list3=[]\n",
        "for i in (list1+list2):\n",
        "  if i%2==0:\n",
        "    list3.append(i)\n",
        "print(list3)"
      ]
    },
    {
      "cell_type": "code",
      "execution_count": null,
      "metadata": {
        "colab": {
          "base_uri": "https://localhost:8080/"
        },
        "id": "1UtSHnFL0haE",
        "outputId": "0c776b5a-7cc2-4ede-8765-1862b6f7f90e"
      },
      "outputs": [
        {
          "name": "stdout",
          "output_type": "stream",
          "text": [
            "enter numbers separated by coma: 1, 2, 3, 4, 5, 6, 7, 8, 9\n",
            "enter numbers separated by coma: 10, 11, 12, -13, -14, -15, -16\n",
            "[2, 4, 6, 8, 10, 12, -14, -16]\n"
          ]
        }
      ],
      "source": [
        "#8\n",
        "list8=[]\n",
        "numbers1=input(\"enter numbers separated by coma: \")\n",
        "numbers2=input(\"enter numbers separated by coma: \")\n",
        "list1=numbers1.split(\",\")\n",
        "list2=numbers2.split(\",\")\n",
        "for i in range (len(list1)):\n",
        "  list1[i]=int(list1[i])\n",
        "for j in range (len(list2)):\n",
        "  list2[j]=int(list2[j])\n",
        "list3=list1+list2\n",
        "for k in list3:\n",
        "  if k%2==0:\n",
        "    list8.append(k)\n",
        "print(list8)"
      ]
    },
    {
      "cell_type": "code",
      "execution_count": null,
      "metadata": {
        "id": "P9XI3GU0Z8ef"
      },
      "outputs": [],
      "source": [
        "#9"
      ]
    },
    {
      "cell_type": "code",
      "execution_count": null,
      "metadata": {
        "colab": {
          "base_uri": "https://localhost:8080/"
        },
        "id": "26VYrgO4TedJ",
        "outputId": "0da2d0b8-a78f-458f-d9af-1951be58570c"
      },
      "outputs": [
        {
          "name": "stdout",
          "output_type": "stream",
          "text": [
            "0,0,1,2,3,4,4,5,6,6,6,7,8,9,4,4\n",
            "[0, 0, 1, 2, 3, 4, 4, 5, 6, 6, 6, 7, 8, 9, 4, 4]\n",
            "[0, 1, 2, 3, 4, 5, 6, 7, 8, 9, 4]\n"
          ]
        }
      ],
      "source": [
        "#10\n",
        "numbers=input().split(\",\")\n",
        "for i in range (len(numbers)):\n",
        "  numbers[i]=int(numbers[i])\n",
        "num=numbers\n",
        "print(num)\n",
        "n<0\n",
        "list=[]\n",
        "for i in num:\n",
        "  if i != n:\n",
        "    list.append(i)\n",
        "    n=i\n",
        "print(list)"
      ]
    },
    {
      "cell_type": "code",
      "source": [
        "print(59-(12)/3)"
      ],
      "metadata": {
        "colab": {
          "base_uri": "https://localhost:8080/"
        },
        "id": "mzyJXrfW30M-",
        "outputId": "0bbbf952-9370-4806-ccf1-553239d707ac"
      },
      "execution_count": null,
      "outputs": [
        {
          "output_type": "stream",
          "name": "stdout",
          "text": [
            "55.0\n"
          ]
        }
      ]
    },
    {
      "cell_type": "code",
      "execution_count": null,
      "metadata": {
        "colab": {
          "base_uri": "https://localhost:8080/"
        },
        "id": "s3UDGajAVmTo",
        "outputId": "37832ec3-740d-4ef0-f438-d81c0d802e11"
      },
      "outputs": [
        {
          "output_type": "stream",
          "name": "stdout",
          "text": [
            "True\n"
          ]
        }
      ],
      "source": [
        "\n",
        "#11\n",
        "list1=[1,4,3,2,5]\n",
        "list2=[8,7,6,9,5]\n",
        "flag=True\n",
        "for i in (list1):\n",
        "   if i in list2:\n",
        "      flag=True\n",
        "      break\n",
        "   else:\n",
        "     flag=False\n",
        "print(flag)\n",
        "   "
      ]
    },
    {
      "cell_type": "code",
      "execution_count": null,
      "metadata": {
        "colab": {
          "base_uri": "https://localhost:8080/"
        },
        "id": "2jRnZswSKGp9",
        "outputId": "91aedac6-85bc-4511-808f-da893e8801c5"
      },
      "outputs": [
        {
          "name": "stdout",
          "output_type": "stream",
          "text": [
            "5\n",
            "9\n",
            "15\n",
            "25\n",
            "43\n",
            "77\n",
            "143\n",
            "273\n",
            "531\n"
          ]
        }
      ],
      "source": [
        "#12\n",
        "myList = [0, 0, 0, 0, 0, 0, 0, 0, 0, 0]\n",
        "index1 = 0\n",
        "index2 = 0\n",
        "index1 = 1\n",
        "while(index1<10):\n",
        "  myList[index1] = index1+4\n",
        "  index2 = 1\n",
        "  while(index2<index1):\n",
        "      myList[index1] = myList[index1] + myList[index2]-index1\n",
        "      index2 = index2+1\n",
        "  print(myList[index1])\n",
        "  index1 = index1+1\n",
        "\n"
      ]
    },
    {
      "cell_type": "code",
      "source": [
        "#13\n",
        "myList = [0, 0, 0, 0, 0, 0, 0, 0, 0, 0]\n",
        "index1 = 0\n",
        "index2 = 0\n",
        "index1 = 1\n",
        "while (index1 < 10):\n",
        "  myList[index1] = index1 + 4\n",
        "  index2 = 1\n",
        "  while (index2 < index1):\n",
        "    myList[index1] = myList[index1-1] - myList[index2-1] - index1\n",
        "    index2 = index2 + 1\n",
        "  print(myList[index1])\n",
        "  index1 = index1 + 1\n",
        "\n"
      ],
      "metadata": {
        "colab": {
          "base_uri": "https://localhost:8080/"
        },
        "id": "knopYc9EndQo",
        "outputId": "51792e51-cc7f-4c6f-bf2c-2ff632c5395d"
      },
      "execution_count": null,
      "outputs": [
        {
          "output_type": "stream",
          "name": "stdout",
          "text": [
            "5\n",
            "3\n",
            "-5\n",
            "-12\n",
            "-12\n",
            "-6\n",
            "-1\n",
            "-3\n",
            "-11\n"
          ]
        }
      ]
    },
    {
      "cell_type": "code",
      "source": [
        "#14\n",
        "\n",
        "myList = [0, 0, 0, 0, 0, 0, 0, 0, 0, 0]\n",
        "b = []\n",
        "index1 = 0\n",
        "index2 = 0\n",
        "index1 = 1\n",
        "b = myList\n",
        "while(index1<10):\n",
        "  myList[index1] = index1+2\n",
        "  index2 = 1\n",
        "  while(index2<index1):\n",
        "    myList[index1] = b[index1]+myList[index2]-index1\n",
        "    index2 = index2+1\n",
        "  print(myList[index1])\n",
        "  index1 = index1+1\n",
        "\n"
      ],
      "metadata": {
        "colab": {
          "base_uri": "https://localhost:8080/"
        },
        "id": "v73RxhITMoMJ",
        "outputId": "91d8fe2e-4345-4571-efa4-fd873fb11398"
      },
      "execution_count": null,
      "outputs": [
        {
          "output_type": "stream",
          "name": "stdout",
          "text": [
            "3\n",
            "5\n",
            "7\n",
            "9\n",
            "11\n",
            "13\n",
            "15\n",
            "17\n",
            "19\n"
          ]
        }
      ]
    },
    {
      "cell_type": "code",
      "source": [
        "#15\n",
        "\n",
        "myList = [0, 0, 0, 0, 0, 0, 0, 0, 0, 0]\n",
        "b = []\n",
        "index1 = 0\n",
        "index2 = 0\n",
        "index1 = 1\n",
        "b = myList\n",
        "while (index1 < 10):\n",
        "  myList[index1] = index1 + 1\n",
        "  index2 = 1\n",
        "  while (index2 < index1):\n",
        "    myList[index1] = b[index2-1] + myList[index2] - index1\n",
        "    index2 = index2 + 1\n",
        "  print(myList[index1])\n",
        "  index1 = index1 + 1\n",
        "\n"
      ],
      "metadata": {
        "colab": {
          "base_uri": "https://localhost:8080/"
        },
        "id": "-5qNJAM6drUH",
        "outputId": "0e5c9dcf-6717-4c00-b1c9-27a8d2fe5bec"
      },
      "execution_count": null,
      "outputs": [
        {
          "output_type": "stream",
          "name": "stdout",
          "text": [
            "2\n",
            "0\n",
            "-1\n",
            "-5\n",
            "-11\n",
            "-22\n",
            "-40\n",
            "-70\n",
            "-119\n"
          ]
        }
      ]
    },
    {
      "cell_type": "code",
      "execution_count": null,
      "metadata": {
        "colab": {
          "base_uri": "https://localhost:8080/"
        },
        "id": "9IuCpAac_icm",
        "outputId": "46e742e9-04fa-4fff-c377-e25e98dff6b1"
      },
      "outputs": [
        {
          "name": "stdout",
          "output_type": "stream",
          "text": [
            "Enter numbers separated by comas: 7,13,2,10,6,-11,0\n",
            "My List: [7, 13, 2, 10, 6, -11, 0]\n",
            "[7, 2, 10, 6, -11, 0]\n",
            "[7, 13, 2, 10, 6, -11, 0]\n",
            "Second largest number in the list is 10 which was found at index 3\n"
          ]
        }
      ],
      "source": [
        "#16\n",
        "numbers=input(\"Enter numbers separated by comas: \")\n",
        "list3=numbers.split(\",\")\n",
        "for i in range (len(list3)):\n",
        "  list3[i]=int(list3[i])\n",
        "print(\"My List:\",list3)\n",
        "max=list3[0]\n",
        "list1=list3.copy()\n",
        "for j in list1:\n",
        "  if j>max:\n",
        "    max=j\n",
        "    list1.remove(max)\n",
        "print(list1)\n",
        "list2=list1    \n",
        "max2=list3[0]\n",
        "for k in list2:\n",
        "  if k>=max2:\n",
        "    max2=k\n",
        "print(list3)\n",
        "print(\"Second largest number in the list is\",max2,\"which was found at index\",list3.index(max2))   "
      ]
    },
    {
      "cell_type": "code",
      "execution_count": null,
      "metadata": {
        "colab": {
          "base_uri": "https://localhost:8080/"
        },
        "id": "5eH5MPhNGDEN",
        "outputId": "ce883293-77a4-44d2-888a-3da78c3e9d0d"
      },
      "outputs": [
        {
          "name": "stdout",
          "output_type": "stream",
          "text": [
            "7,13,-5,10,6\n",
            "My List: [7, 13, -5, 10, 6]\n",
            "Smallest number in the list is -5 which was found at index 2\n",
            "Largest number in the list is 13 which was found at index 1\n"
          ]
        }
      ],
      "source": [
        "#17\n",
        "numbers=input().split(\",\")\n",
        "for i in range (len(numbers)):\n",
        "  numbers[i]=int(numbers[i])\n",
        "print(\"My List:\",numbers)\n",
        "max=numbers[0]\n",
        "min=numbers[0]\n",
        "for j in numbers:\n",
        "  if j>max:\n",
        "    max=j\n",
        "  if j<min:\n",
        "    min=j\n",
        "print(\"Smallest number in the list is\",min,\"which was found at index\",numbers.index(min))\n",
        "print(\"Largest number in the list is\",max,\"which was found at index\",numbers.index(max))"
      ]
    },
    {
      "cell_type": "code",
      "execution_count": null,
      "metadata": {
        "colab": {
          "base_uri": "https://localhost:8080/"
        },
        "id": "FXZgaQFGIoDY",
        "outputId": "520e2821-5ea2-4b65-c23c-330c22c206d0"
      },
      "outputs": [
        {
          "name": "stdout",
          "output_type": "stream",
          "text": [
            "1,3,A,H,P\n",
            "A,G,1,P,O\n",
            "['1', 'A', 'P']\n"
          ]
        }
      ],
      "source": [
        "#18\n",
        "list1=input().split(\",\")\n",
        "list2=input().split(\",\")\n",
        "list3=[]\n",
        "for i in list1:\n",
        "  if i in list2:\n",
        "    list3.append(i)\n",
        "print(list3)"
      ]
    }
  ],
  "metadata": {
    "colab": {
      "provenance": []
    },
    "kernelspec": {
      "display_name": "Python 3",
      "name": "python3"
    },
    "language_info": {
      "name": "python"
    }
  },
  "nbformat": 4,
  "nbformat_minor": 0
}