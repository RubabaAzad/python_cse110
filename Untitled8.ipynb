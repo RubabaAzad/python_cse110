{
  "nbformat": 4,
  "nbformat_minor": 0,
  "metadata": {
    "colab": {
      "provenance": []
    },
    "kernelspec": {
      "name": "python3",
      "display_name": "Python 3"
    },
    "language_info": {
      "name": "python"
    }
  },
  "cells": [
    {
      "cell_type": "code",
      "execution_count": null,
      "metadata": {
        "colab": {
          "base_uri": "https://localhost:8080/"
        },
        "id": "KqEikUPEN6EK",
        "outputId": "6792d9c7-3500-4536-f5b7-bb914409c873"
      },
      "outputs": [
        {
          "output_type": "stream",
          "name": "stdout",
          "text": [
            "[1, 2, 2, 3, 5, 6, 10, 11, 12, 14, 15, 17, 18, 20, 29]\n"
          ]
        }
      ],
      "source": [
        "#1\n",
        "my_list = [10,1,20,3,6,2,5,11,15,2,12,14,17,18,29]\n",
        "def bubble_sort(listo):\n",
        "    lenx = len(listo) \n",
        "    for i in range(lenx):\n",
        "        for j in range(lenx-1):\n",
        "            if listo[j] > listo[j+1]:\n",
        "                listo[j], listo[j+1] = listo[j+1], listo[j]\n",
        "    return listo\n",
        "print(bubble_sort(my_list))"
      ]
    },
    {
      "cell_type": "code",
      "source": [
        "#2\n",
        "my_list = [10,1,20,3,6,2,5,11,15,2,12,14,17,18,29] \n",
        "def selection_sort(listo):\n",
        "    lenx = len(listo)\n",
        "    for i in range(lenx-1):\n",
        "        for j in range(i, lenx):\n",
        "            if listo[i] > listo[j]: listo[i], listo[j] = listo[j], listo[i]\n",
        "    return listo\n",
        "print(selection_sort(my_list))"
      ],
      "metadata": {
        "id": "hpmzFOMHN-Oh"
      },
      "execution_count": null,
      "outputs": []
    },
    {
      "cell_type": "code",
      "source": [
        "#3\n",
        "my_list = [10,1,20,3,6,2,5,11,15,2,12,14,17,18,29]\n",
        "def selection_sort(lst):\n",
        "    lenx = len(lst)\n",
        "    for i in range(lenx-1):\n",
        "        for j in range(i, lenx):\n",
        "            if lst[i] < lst[j]: lst[i], lst[j] = lst[j], lst[i]\n",
        "    return lst\n",
        "print(selection_sort(my_list))\n"
      ],
      "metadata": {
        "id": "6DfOzcx4OOG5"
      },
      "execution_count": null,
      "outputs": []
    },
    {
      "cell_type": "code",
      "source": [
        "#4\n",
        "sitting_list = [10,30,20,70,11,15,22,16,58,100,12,56,70,80]\n",
        "def selection_sort(lst, back=False):\n",
        "    if back == False:\n",
        "        lenx = len(lst)\n",
        "        for i in range(lenx-1):\n",
        "            for j in range(i, lenx):\n",
        "                if lst[i] > lst[j]: lst[i], lst[j] = lst[j], lst[i]\n",
        "    else:\n",
        "        lenx = len(lst)\n",
        "        for i in range(lenx-1):\n",
        "            for j in range(i, lenx):\n",
        "                if lst[i] < lst[j]: lst[i], lst[j] = lst[j], lst[i]\n",
        "    return lst\n",
        "def side_by(lst):\n",
        "    lstx = []\n",
        "    even = selection_sort([lst[idx] for idx in range(len(lst)) if idx%2==0])\n",
        "    odds = selection_sort([lst[idx] for idx in range(len(lst)) if idx%2==1], back=True)\n",
        "    for x,y in zip(even, odds):\n",
        "        lstx.append(x)\n",
        "        lstx.append(y)\n",
        "    return lstx\n",
        "print(side_by(sitting_list))"
      ],
      "metadata": {
        "id": "Adfnd153OcIr"
      },
      "execution_count": null,
      "outputs": []
    },
    {
      "cell_type": "code",
      "source": [
        "#5\n",
        "course_name = input(\"Please enter course name:\")\n",
        "def score(course, lst):\n",
        "    course = course.strip().upper()\n",
        "    temp = {}\n",
        "\n",
        "    if course == 'CSE110': \n",
        "        no = 1\n",
        "    elif course == 'PHY111': \n",
        "        no = 2\n",
        "    elif course == 'MAT110': \n",
        "        no = 3\n",
        "    else: \n",
        "        no = None\n",
        "\n",
        "    if no:\n",
        "        for i in lst: \n",
        "            temp[i[no]] = i[0]\n",
        "        for j in sorted(list(temp.keys()), reverse=True): \n",
        "            print(temp[j])\n",
        "    else:\n",
        "        print(\"Please enter a correct/exact and pre-defined course name!\")\n",
        "\n",
        "lst = [ [\"Alan\", 95, 87, 91], [\"Turing\", 92, 90, 83], [\"Elon\", 87, 92, 80], [\"Musk\", 85, 94, 90] ]\n",
        "\n",
        "score(course_name, lst)"
      ],
      "metadata": {
        "id": "rkQRAFyJOn08"
      },
      "execution_count": null,
      "outputs": []
    },
    {
      "cell_type": "code",
      "source": [
        "#6\n",
        "my_list = [4, 2, 3, 1, 6, 5]\n",
        "def pos(my_list):\n",
        "    my_list = my_list.copy()\n",
        "    my_sorted_list = sorted(my_list)\n",
        "    temp = 0\n",
        "    for x,y in zip(my_list, my_sorted_list):\n",
        "        if x != y:\n",
        "            temp += 1 \n",
        "    return temp\n",
        "print(pos(my_list))"
      ],
      "metadata": {
        "id": "tCd1GCHTOyu4"
      },
      "execution_count": null,
      "outputs": []
    },
    {
      "cell_type": "code",
      "source": [
        "#7\n",
        "list_one = input(\"Please enter list_one: \")\n",
        "list_two = input(\"Please enter list_two: \")\n",
        "\n",
        "def get_list(stx):\n",
        "    if type(stx) == list:\n",
        "        return stx\n",
        "    char_x = ['[', ']', '\"', '\\'', 'list_one', 'list_two', '=']\n",
        "    for _x in char_x: stx = stx.replace(_x, '')\n",
        "    set_list = [int(_.strip()) for _ in stx.split(',')]\n",
        "\n",
        "    return set_list\n",
        "\n",
        "def joint_list_median(list_one,list_two):\n",
        "    median = 0\n",
        "    lst1, lst2 = get_list(list_one), get_list(list_two)\n",
        "    joined = lst1+lst2\n",
        "    joined = selection_sort(joined)\n",
        "    joined_len = len(joined)\n",
        "\n",
        "    if joined_len % 2 == 0:\n",
        "        median = (joined[(joined_len-1)//2] + joined[(joined_len+1)//2])/2\n",
        "    else:\n",
        "        median = joined[joined_len//2]\n",
        "\n",
        "    return joined, median\n",
        "   \n",
        "list_median = joint_list_median(list_one, list_two)\n",
        "\n",
        "print(\"Sorted list =\",list_median[0])\n",
        "print(\"Median list =\",list_median[1])"
      ],
      "metadata": {
        "id": "GKoeuzcxO_1n"
      },
      "execution_count": null,
      "outputs": []
    },
    {
      "cell_type": "code",
      "source": [
        "#8\n",
        "def pair_recognizer(list_one: str):\n",
        "    list_one = eval(list_one)\n",
        "    dictx = {}\n",
        "    for i in range(len(list_one)):\n",
        "        for j in range(i+1,len(list_one)):\n",
        "            dictx[abs(list_one[i]+list_one[j])] = (list_one[i], list_one[j])\n",
        "    return dictx\n",
        "\n",
        "dictx = pair_recognizer(input().split('=')[1].strip())\n",
        "lowest = sorted(list(dictx.keys()))[0]\n",
        "lowest_pair = dictx.get(lowest)\n",
        "\n",
        "print(f\"Two pairs which have the smallest sum = {lowest_pair[0]} and {lowest_pair[1]}\")"
      ],
      "metadata": {
        "id": "4eHmCMeHPK1y"
      },
      "execution_count": null,
      "outputs": []
    }
  ]
}